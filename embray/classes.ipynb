{
 "metadata": {
  "name": "",
  "signature": "sha256:eedd044680d14b8ee6d51cd03da49aec7314ea5dbc2c32b02f7ddd41b26e23f5"
 },
 "nbformat": 3,
 "nbformat_minor": 0,
 "worksheets": [
  {
   "cells": [
    {
     "cell_type": "heading",
     "level": 1,
     "metadata": {},
     "source": [
      "Classes and object-oriented programming"
     ]
    },
    {
     "cell_type": "heading",
     "level": 2,
     "metadata": {},
     "source": [
      "Some basic definitions and concepts"
     ]
    },
    {
     "cell_type": "markdown",
     "metadata": {},
     "source": [
      "An *object* is the data stored in a single variable representing anything from some single irreducible unit of information (a single integer for example) to collections of related data like a 2-D point (two numbers), or something more complicated and abstract like a web server or a specialized data set, or even a Saturn V rocket.\n",
      "\n",
      "A *class* is a collection of reusable code that is a template for creating objects that have some common properties and behaviors.  Typically a class is a collection of functions (called *methods* when they are part of a class) that implement the behaviors and computations related directly to the data associated with an *instance* of that class.  Here *instance* is mostly interchangeable with *object*.  An *instance* of a class is just an object that derives its behavior from a specific class.\n",
      "\n",
      "For example \"Saturn V\" could be a *class* representing all \"Saturn V\" rockets in the abstract (as there are more than one), while each individual rocket is an object with its own unique properties."
     ]
    },
    {
     "cell_type": "code",
     "collapsed": false,
     "input": [
      "from __future__ import print_function\n",
      "import numpy as np"
     ],
     "language": "python",
     "metadata": {},
     "outputs": [],
     "prompt_number": 1
    },
    {
     "cell_type": "markdown",
     "metadata": {},
     "source": [
      "Here's the first example class we'll work with.  First let's see some of the things we can do with this, then we'll go back and analyze the exact *syntax* for declaring classes:"
     ]
    },
    {
     "cell_type": "code",
     "collapsed": false,
     "input": [
      "class Circle(object):\n",
      "    \"\"\"An advanced circle analysis framework.\"\"\"\n",
      "    \n",
      "    def __init__(self, radius):\n",
      "        self.radius = radius\n",
      "        \n",
      "    def circumference(self):\n",
      "        \"\"\"Computes the circumference of the circle.\"\"\"\n",
      "        \n",
      "        return 2 * np.pi * self.radius\n",
      "        \n",
      "    def area(self):\n",
      "        \"\"\"Computes the area of the circle.\"\"\"\n",
      "        \n",
      "        return np.pi * self.radius ** 2"
     ],
     "language": "python",
     "metadata": {},
     "outputs": [],
     "prompt_number": 2
    },
    {
     "cell_type": "markdown",
     "metadata": {},
     "source": [
      "Classes themselves are objects in Python, just like strings and integers, as well as the class *instances* that we will create from class.\n",
      "\n",
      "*(Bonus question: If everything in Python is an object, and all objects have a class, what is the class of a class object?)*\n",
      "\n",
      "Classes have attributes just like any other object that can be accessed via the `.` operator.\n",
      "For example:"
     ]
    },
    {
     "cell_type": "code",
     "collapsed": false,
     "input": [
      "Circle.__name__"
     ],
     "language": "python",
     "metadata": {},
     "outputs": [
      {
       "metadata": {},
       "output_type": "pyout",
       "prompt_number": 3,
       "text": [
        "'Circle'"
       ]
      }
     ],
     "prompt_number": 3
    },
    {
     "cell_type": "markdown",
     "metadata": {},
     "source": [
      "But the `Circle` *class* just represents an abstract _class_ of objects (hence the term \"class\").\n",
      "The `Circle` class does not have a definite radius"
     ]
    },
    {
     "cell_type": "code",
     "collapsed": false,
     "input": [
      "Circle.radius"
     ],
     "language": "python",
     "metadata": {},
     "outputs": [
      {
       "ename": "AttributeError",
       "evalue": "type object 'Circle' has no attribute 'radius'",
       "output_type": "pyerr",
       "traceback": [
        "\u001b[1;31m---------------------------------------------------------------------------\u001b[0m\n\u001b[1;31mAttributeError\u001b[0m                            Traceback (most recent call last)",
        "\u001b[1;32m<ipython-input-4-f0a2aafaa67c>\u001b[0m in \u001b[0;36m<module>\u001b[1;34m()\u001b[0m\n\u001b[1;32m----> 1\u001b[1;33m \u001b[0mCircle\u001b[0m\u001b[1;33m.\u001b[0m\u001b[0mradius\u001b[0m\u001b[1;33m\u001b[0m\u001b[0m\n\u001b[0m",
        "\u001b[1;31mAttributeError\u001b[0m: type object 'Circle' has no attribute 'radius'"
       ]
      }
     ],
     "prompt_number": 4
    },
    {
     "cell_type": "markdown",
     "metadata": {},
     "source": [
      "That's because we designed our Circle class so that we specify a radius when we create an *instance* of\n",
      "the `Circle` class.  All other properties of the circle (circumference, area) are are given by _methods_\n",
      "of the class that depend on and make use of a specific radius\n",
      "\n",
      "To create an instance of Circle we actually _call_ the Circle class like it's a function, passing in the\n",
      "radius as the first argument, and assign the result to a variable:"
     ]
    },
    {
     "cell_type": "code",
     "collapsed": false,
     "input": [
      "my_circle = Circle(radius=3)"
     ],
     "language": "python",
     "metadata": {},
     "outputs": [],
     "prompt_number": 5
    },
    {
     "cell_type": "code",
     "collapsed": false,
     "input": [
      "# my_circle is an object of type Circle\n",
      "my_circle"
     ],
     "language": "python",
     "metadata": {},
     "outputs": [
      {
       "metadata": {},
       "output_type": "pyout",
       "prompt_number": 6,
       "text": [
        "<__main__.Circle at 0x51ab2d0>"
       ]
      }
     ],
     "prompt_number": 6
    },
    {
     "cell_type": "markdown",
     "metadata": {},
     "source": [
      "This isn't a very nice way of displaying a circle.  It tells us that `my_circle` is an object of class `Circle` (defined in the `__main__` module) and it has some unique ID that is not useful.  We'll see later how to represent our own objects more nicely."
     ]
    },
    {
     "cell_type": "markdown",
     "metadata": {},
     "source": [
      "We can access our circle's radius attribute using the `.` operator as usual (now this *does* work\n",
      "because `my_circle` is a *specific* instance of a `Circle` with a definite radius:"
     ]
    },
    {
     "cell_type": "code",
     "collapsed": false,
     "input": [
      "my_circle.radius"
     ],
     "language": "python",
     "metadata": {},
     "outputs": [
      {
       "metadata": {},
       "output_type": "pyout",
       "prompt_number": 7,
       "text": [
        "3"
       ]
      }
     ],
     "prompt_number": 7
    },
    {
     "cell_type": "markdown",
     "metadata": {},
     "source": [
      "You can also call the `area()` and `circumference()` *methods* on the object.  \"Method\" is just a special term for a function that's attached to an object:"
     ]
    },
    {
     "cell_type": "code",
     "collapsed": false,
     "input": [
      "my_circle.area()"
     ],
     "language": "python",
     "metadata": {},
     "outputs": [
      {
       "metadata": {},
       "output_type": "pyout",
       "prompt_number": 8,
       "text": [
        "28.274333882308138"
       ]
      }
     ],
     "prompt_number": 8
    },
    {
     "cell_type": "code",
     "collapsed": false,
     "input": [
      "my_circle.circumference()"
     ],
     "language": "python",
     "metadata": {},
     "outputs": [
      {
       "metadata": {},
       "output_type": "pyout",
       "prompt_number": 9,
       "text": [
        "18.84955592153876"
       ]
      }
     ],
     "prompt_number": 9
    },
    {
     "cell_type": "markdown",
     "metadata": {},
     "source": [
      "This act of calling _methods_ of an object should seem familiar.  This is the exact same mechanism that you're using when you call things like `.lower()` on a string.  `lower()` is a _method_ of strings:"
     ]
    },
    {
     "cell_type": "code",
     "collapsed": false,
     "input": [
      "mystring = 'HELLO'\n",
      "mystring.lower()"
     ],
     "language": "python",
     "metadata": {},
     "outputs": [
      {
       "metadata": {},
       "output_type": "pyout",
       "prompt_number": 10,
       "text": [
        "'hello'"
       ]
      }
     ],
     "prompt_number": 10
    },
    {
     "cell_type": "markdown",
     "metadata": {},
     "source": [
      "This notebook won't go into great detail on the meaning of the class definition, but I want to point out something we showed in today's PyLunch session about the `self` argument that is the first argument to *every* class method.  When you call something like `my_circle.area()` what happens is that this takes the `Circle` *instance* in `my_circle` and *implicitly* passes it to `Circle.area()` as the first argument (named `self` by convention).\n",
      "\n",
      "In other words this:"
     ]
    },
    {
     "cell_type": "code",
     "collapsed": false,
     "input": [
      "my_circle.area()"
     ],
     "language": "python",
     "metadata": {},
     "outputs": [
      {
       "metadata": {},
       "output_type": "pyout",
       "prompt_number": 11,
       "text": [
        "28.274333882308138"
       ]
      }
     ],
     "prompt_number": 11
    },
    {
     "cell_type": "markdown",
     "metadata": {},
     "source": [
      "is exactly identical to this:"
     ]
    },
    {
     "cell_type": "code",
     "collapsed": false,
     "input": [
      "Circle.area(my_circle)"
     ],
     "language": "python",
     "metadata": {},
     "outputs": [
      {
       "metadata": {},
       "output_type": "pyout",
       "prompt_number": 12,
       "text": [
        "28.274333882308138"
       ]
      }
     ],
     "prompt_number": 12
    },
    {
     "cell_type": "markdown",
     "metadata": {},
     "source": [
      "But by using the method call syntax `my_circle.area()` we don't have to keep referring back to the class every time we use the object.  In fact we can mostly forget about what class it is and just focus on what methods and attributes are defined on the object (Python makes heavy use of this concept through the technique you may have heard of called duck-typing.  The capability of using duck-typing is another useful case for object-oriented programming in Python, but is beyond the scope of this section.)"
     ]
    },
    {
     "cell_type": "heading",
     "level": 3,
     "metadata": {},
     "source": [
      "A more detailed note on exactly what's going on under the hood:"
     ]
    },
    {
     "cell_type": "markdown",
     "metadata": {},
     "source": [
      "(You can skip this aside on a first read if you want.)"
     ]
    },
    {
     "cell_type": "markdown",
     "metadata": {},
     "source": [
      "In fact, all objects in Python have a `.__class__` attribute that stores a reference to the original class that we used when we created the object (for example when we called `my_circle = Circle(3)` one of the things that happens implicitly is Python assigns `my_circle.__class__ = Circle`).\n",
      "\n",
      "So in fact what really happens under the hood when you call `my_circle.area()` is this:"
     ]
    },
    {
     "cell_type": "code",
     "collapsed": false,
     "input": [
      "my_circle.__class__.area(my_circle)"
     ],
     "language": "python",
     "metadata": {},
     "outputs": [
      {
       "metadata": {},
       "output_type": "pyout",
       "prompt_number": 13,
       "text": [
        "28.274333882308138"
       ]
      }
     ],
     "prompt_number": 13
    },
    {
     "cell_type": "markdown",
     "metadata": {},
     "source": [
      "`my_circle.area()` is essentially just \"syntactic sugar\" for the above mess.  It should be clear which usage is preferable ;)\n",
      "\n",
      "Note: As we showed in the PyLunch this is equally true for builtin types in Python like `str` (strings):"
     ]
    },
    {
     "cell_type": "code",
     "collapsed": false,
     "input": [
      "# What actually happens when you call \"HELLO\".lower():\n",
      "\"HELLO\".__class__.lower(\"HELLO\")"
     ],
     "language": "python",
     "metadata": {},
     "outputs": [
      {
       "metadata": {},
       "output_type": "pyout",
       "prompt_number": 14,
       "text": [
        "'hello'"
       ]
      }
     ],
     "prompt_number": 14
    },
    {
     "cell_type": "heading",
     "level": 3,
     "metadata": {},
     "source": [
      "Updating attributes:"
     ]
    },
    {
     "cell_type": "markdown",
     "metadata": {},
     "source": [
      "We can also update the radius of the circle and compute new results.  The fact that this is possible is the default behavior, though it *is* possible to design a class such that its instances are *immutable* (think tuples for example), so that you can't just change a circle's radius--if you want a circle with a different radius you have to create a new one.  But for now we'll just let *our* circles be mutable:"
     ]
    },
    {
     "cell_type": "code",
     "collapsed": false,
     "input": [
      "my_circle.radius = 4\n",
      "my_circle.radius"
     ],
     "language": "python",
     "metadata": {},
     "outputs": [
      {
       "metadata": {},
       "output_type": "pyout",
       "prompt_number": 15,
       "text": [
        "4"
       ]
      }
     ],
     "prompt_number": 15
    },
    {
     "cell_type": "code",
     "collapsed": false,
     "input": [
      "my_circle.area()"
     ],
     "language": "python",
     "metadata": {},
     "outputs": [
      {
       "metadata": {},
       "output_type": "pyout",
       "prompt_number": 16,
       "text": [
        "50.26548245743669"
       ]
      }
     ],
     "prompt_number": 16
    },
    {
     "cell_type": "code",
     "collapsed": false,
     "input": [
      "my_circle.circumference()"
     ],
     "language": "python",
     "metadata": {},
     "outputs": [
      {
       "metadata": {},
       "output_type": "pyout",
       "prompt_number": 17,
       "text": [
        "25.132741228718345"
       ]
      }
     ],
     "prompt_number": 17
    },
    {
     "cell_type": "heading",
     "level": 2,
     "metadata": {},
     "source": [
      "Breaking down the class declaration syntax"
     ]
    },
    {
     "cell_type": "markdown",
     "metadata": {},
     "source": [
      "Just about the simplest class you can write looks something like this:"
     ]
    },
    {
     "cell_type": "code",
     "collapsed": false,
     "input": [
      "class MyClass:\n",
      "    \"\"\"A docstring explaining why MyClass is useful and how to use it.\"\"\""
     ],
     "language": "python",
     "metadata": {},
     "outputs": [],
     "prompt_number": 18
    },
    {
     "cell_type": "markdown",
     "metadata": {},
     "source": [
      "And that's absolutely it.  Depending on how you look at it there are about three components to this:  The `class` keyword begins the class declaration.  This is a special keyword recognized by the Python language, just like `def` is used to introduce a function declaration.  As with functions, the next thing following the `class` keyword is the name of the class.\n",
      "\n",
      "By convention, classes in Python should be named with CamelCase.  This is by no means a requirement, but it is good practice--most Python programmers follow the convention that only class names use CamelCase, so when you see CamelCase it's safe to bet it's a class (some of the Python builtins like `str` and `list` are of course exceptions to this...)\n",
      "\n",
      "You end the first line with a colon, indicating that this is the beginning of a code *block*.  Then anything following that line that's indented is part of the class body, just like with `def func_name():` or `if condition:`.\n",
      "\n",
      "Then the final \"component\" to this declaration is the class body itself.  There has to be *something* in the body or you'll get a syntax error.  When defining a new class, almost always the first thing I put in the body is a docstring.  Now I have a nice fully documented class before I've even written any code for it ;)\n",
      "\n",
      "(In practice one still goes back and edits the docstring multiple times in the course of development.)"
     ]
    },
    {
     "cell_type": "markdown",
     "metadata": {},
     "source": [
      "However, we have been remiss by omitting one optional, yet very important part of class declarations, and that's the *base class*.  More often than not, when you see a new class declared in Python (especially Python 2, in Python 3 this is automatic) like:"
     ]
    },
    {
     "cell_type": "code",
     "collapsed": false,
     "input": [
      "class MyBetterClass(object):\n",
      "    \"\"\"A class that inherits from the `object` class--advanced technology.\"\"\""
     ],
     "language": "python",
     "metadata": {},
     "outputs": [],
     "prompt_number": 19
    },
    {
     "cell_type": "markdown",
     "metadata": {},
     "source": [
      "When declaring a class you can optionally give it a base class, which you put in parentheses after the class name, but before the colon.  Remember, *classes* are objects themselves.  So make sure you don't use a string (a common beginner mistake according to StackOverflow).  This will result in a mysterious seeming error:"
     ]
    },
    {
     "cell_type": "code",
     "collapsed": false,
     "input": [
      "class MyFaultyClass(\"object\"):\n",
      "    \"\"\"This is broken.\"\"\""
     ],
     "language": "python",
     "metadata": {},
     "outputs": [
      {
       "ename": "TypeError",
       "evalue": "Error when calling the metaclass bases\n    str() takes at most 1 argument (3 given)",
       "output_type": "pyerr",
       "traceback": [
        "\u001b[1;31m---------------------------------------------------------------------------\u001b[0m\n\u001b[1;31mTypeError\u001b[0m                                 Traceback (most recent call last)",
        "\u001b[1;32m<ipython-input-20-937c6f2b91ab>\u001b[0m in \u001b[0;36m<module>\u001b[1;34m()\u001b[0m\n\u001b[1;32m----> 1\u001b[1;33m \u001b[1;32mclass\u001b[0m \u001b[0mMyFaultyClass\u001b[0m\u001b[1;33m(\u001b[0m\u001b[1;34m\"object\"\u001b[0m\u001b[1;33m)\u001b[0m\u001b[1;33m:\u001b[0m\u001b[1;33m\u001b[0m\u001b[0m\n\u001b[0m\u001b[0;32m      2\u001b[0m     \u001b[1;34m\"\"\"This is broken.\"\"\"\u001b[0m\u001b[1;33m\u001b[0m\u001b[0m\n",
        "\u001b[1;31mTypeError\u001b[0m: Error when calling the metaclass bases\n    str() takes at most 1 argument (3 given)"
       ]
      }
     ],
     "prompt_number": 20
    },
    {
     "cell_type": "markdown",
     "metadata": {},
     "source": [
      "I cannot stress this enough. _**WHEN WRITING A NEW CLASS, ALWAYS ALWAYS INHERIT FROM `object`**_.\n",
      "\n",
      "\"Why\", it's natural to ask, \"does my class need to inherit from this mysterious `object` class?  What does it do for me?\"\n",
      "\n",
      "This is one of those unfortunate newbie traps in Python that exists for historical reasons (and is fixed in Python 3), but that forces us to add additional cognitive overhead to teaching classes.  You might not even know yet what inheritance *is* or what a \"base class\" is or why you would need that at all.  As we saw a few examples up it is *possible*, even on Python 2, to create a fresh new class that has no base class.  The problem is that the class you get is very primitive one referred to as an \"old-style\" class.  A lot of the basic class/object functionality will still work with an old-style class.  But there are a lot of the more advanced functionality that we get with so-called \"new-style classes\" is missing *unless* your class has `object` as its base class.  For example, properties and classmethods, which we'll see later, will not work with \"old-style\" classes.  So forgetting to put `(object)` in your class declaration is a source of common mistakes.\n",
      "\n",
      "In short, `object` is a special class in Python (and yes, its name is also confusing--`object` is a *class*) that implements all the features of \"new-style\" classes.\n",
      "\n",
      "Note, if you are creating a class that already inherits from `object` then you don't need to specify `object` as your base class.  You just specify the class you're inheriting:"
     ]
    },
    {
     "cell_type": "code",
     "collapsed": false,
     "input": [
      "class AbstractWidget(object):\n",
      "    \"\"\"Base class for all widgets.\"\"\"\n",
      "    \n",
      "    \n",
      "class Button(AbstractWidget):\n",
      "    \"\"\"\n",
      "    Implementation of a specific widget.  This inherits functionality from\n",
      "    AbstractWidget and through AbstractWidget from object as well.\n",
      "    \"\"\"\n",
      "    \n",
      "    def push(self):\n",
      "        print(\"Pushed the button!\")"
     ],
     "language": "python",
     "metadata": {},
     "outputs": [],
     "prompt_number": 21
    },
    {
     "cell_type": "heading",
     "level": 3,
     "metadata": {},
     "source": [
      "Adding an initializer"
     ]
    },
    {
     "cell_type": "markdown",
     "metadata": {},
     "source": [
      "Let's turn back to the `Circle` class and start adding / explaining functionality bit by bit.\n",
      "\n",
      "With a bare class declaration, with nothing in the body but a docstring, we don't get much in the way\n",
      "of interesting functionality.  There are no arguments we can pass in when initializing the class:"
     ]
    },
    {
     "cell_type": "code",
     "collapsed": false,
     "input": [
      "class Circle(object):\n",
      "    \"\"\"An advanced circle analysis framework.\"\"\""
     ],
     "language": "python",
     "metadata": {},
     "outputs": [],
     "prompt_number": 22
    },
    {
     "cell_type": "code",
     "collapsed": false,
     "input": [
      "Circle(3)"
     ],
     "language": "python",
     "metadata": {},
     "outputs": [
      {
       "ename": "TypeError",
       "evalue": "object() takes no parameters",
       "output_type": "pyerr",
       "traceback": [
        "\u001b[1;31m---------------------------------------------------------------------------\u001b[0m\n\u001b[1;31mTypeError\u001b[0m                                 Traceback (most recent call last)",
        "\u001b[1;32m<ipython-input-23-3998ed09a6cf>\u001b[0m in \u001b[0;36m<module>\u001b[1;34m()\u001b[0m\n\u001b[1;32m----> 1\u001b[1;33m \u001b[0mCircle\u001b[0m\u001b[1;33m(\u001b[0m\u001b[1;36m3\u001b[0m\u001b[1;33m)\u001b[0m\u001b[1;33m\u001b[0m\u001b[0m\n\u001b[0m",
        "\u001b[1;31mTypeError\u001b[0m: object() takes no parameters"
       ]
      }
     ],
     "prompt_number": 23
    },
    {
     "cell_type": "markdown",
     "metadata": {},
     "source": [
      "We can still create a `Circle` with no arguments, and are free to assign and look up variables on it:"
     ]
    },
    {
     "cell_type": "code",
     "collapsed": false,
     "input": [
      "c = Circle()"
     ],
     "language": "python",
     "metadata": {},
     "outputs": [],
     "prompt_number": 24
    },
    {
     "cell_type": "code",
     "collapsed": false,
     "input": [
      "c.radius = 4"
     ],
     "language": "python",
     "metadata": {},
     "outputs": [],
     "prompt_number": 25
    },
    {
     "cell_type": "code",
     "collapsed": false,
     "input": [
      "c.radius"
     ],
     "language": "python",
     "metadata": {},
     "outputs": [
      {
       "metadata": {},
       "output_type": "pyout",
       "prompt_number": 26,
       "text": [
        "4"
       ]
      }
     ],
     "prompt_number": 26
    },
    {
     "cell_type": "markdown",
     "metadata": {},
     "source": [
      "At this stage our `Circle` object is little more than a fancy dictionary that we store values in as *attributes* on the object rather than using the dictionary syntax.  Let's add some constraints to our circle.  We know we always want a circle to have a radius (and in fact we use the radius to *define* the circle), so we can require a radius to be supplied to initialize the circle:"
     ]
    },
    {
     "cell_type": "code",
     "collapsed": false,
     "input": [
      "class Circle(object):\n",
      "    \"\"\"\n",
      "    An advanced circle analysis framework.\n",
      "    \n",
      "    Parameters\n",
      "    ----------\n",
      "    radius : float\n",
      "        The radius of the circle (required)\n",
      "    \"\"\"\n",
      "    \n",
      "    def __init__(self, radius):\n",
      "        self.radius = radius"
     ],
     "language": "python",
     "metadata": {},
     "outputs": [],
     "prompt_number": 27
    },
    {
     "cell_type": "markdown",
     "metadata": {},
     "source": [
      "`__init__` is a *special* method, short for initializer.  Don't forget the two underscores before and after `init`.  That's two before and two under.  There are several other special methods and attributes built into Python that use a similar naming convention (we already saw `__name__` which contains the name of the class).\n",
      "\n",
      "(These double-underscore \"magic\" methods and attributes are so common in Python that Python developers often read/speak their names like \"dunder\" as short for double-underscore.  So for example, `__init__` is called \"dunder init\".  I have occasionally requested on the python-ideas mailing list that a `__mifflin__` method be added to the language...)"
     ]
    },
    {
     "cell_type": "markdown",
     "metadata": {},
     "source": [
      "When you call `Circle(..arguments..)` Python automatically checks to see if your class has an `__init__` and it passes those arguments in to it.  In the case of `Circle` we have one argument that we initialize with--`radius`.  Why, then do we define `__init__` with two arguments: `radius`, and before that this argument called \"self\".  You've probably seen this before, but if not, all *methods* (or almost all) defined on a class *must* take an argument called \"self\" as its first argument.\n",
      "\n",
      "Forgetting to include `self` is another source of common hard to see bugs:"
     ]
    },
    {
     "cell_type": "code",
     "collapsed": false,
     "input": [
      "class BrokenCircle(object):\n",
      "    def __init__(radius):\n",
      "        self.radius = radius"
     ],
     "language": "python",
     "metadata": {},
     "outputs": [],
     "prompt_number": 28
    },
    {
     "cell_type": "code",
     "collapsed": false,
     "input": [
      "c = BrokenCircle(2.3)"
     ],
     "language": "python",
     "metadata": {},
     "outputs": [
      {
       "ename": "TypeError",
       "evalue": "__init__() takes exactly 1 argument (2 given)",
       "output_type": "pyerr",
       "traceback": [
        "\u001b[1;31m---------------------------------------------------------------------------\u001b[0m\n\u001b[1;31mTypeError\u001b[0m                                 Traceback (most recent call last)",
        "\u001b[1;32m<ipython-input-29-2a575e48ce91>\u001b[0m in \u001b[0;36m<module>\u001b[1;34m()\u001b[0m\n\u001b[1;32m----> 1\u001b[1;33m \u001b[0mc\u001b[0m \u001b[1;33m=\u001b[0m \u001b[0mBrokenCircle\u001b[0m\u001b[1;33m(\u001b[0m\u001b[1;36m2.3\u001b[0m\u001b[1;33m)\u001b[0m\u001b[1;33m\u001b[0m\u001b[0m\n\u001b[0m",
        "\u001b[1;31mTypeError\u001b[0m: __init__() takes exactly 1 argument (2 given)"
       ]
      }
     ],
     "prompt_number": 29
    },
    {
     "cell_type": "markdown",
     "metadata": {},
     "source": [
      "What's going on here is that when the `__init__` method is called, the circle *object* that we just created is passed in to the method as the `self` argument.  Then in the `__init__` we can do things like set up all the attributes defined on the object.  In this case we assign the radius passed in by the user to the `self.radius` attribute.  Then, by the time the circle object is handed back to the user, it has had its radius attribute already defined, as we required when initialing the circle in the first place."
     ]
    },
    {
     "cell_type": "markdown",
     "metadata": {},
     "source": [
      "To clarify, every instance of a class starts out its life, by default, as a bare object without any attributes (other than the ones built in by Python).  It's then up to our `__init__` to start assigning values to its attributes.  That's why it's called an *initializer* and not a *constructor* (a term you might have heard used in C++).  By the time the `__init__` method is called by Python the object has already been constructed in memory (it has to have been, so that it can be passed in as the `self`).  But it is a bare object that has to be initialized with any data we want it to start its life out with."
     ]
    },
    {
     "cell_type": "markdown",
     "metadata": {},
     "source": [
      "If we *didn't* have an `__init__` we could still create a circle and then later assign its radius:"
     ]
    },
    {
     "cell_type": "code",
     "collapsed": false,
     "input": [
      "class FlakyCircle(object):\n",
      "    \"\"\"Might work....if you remember to specify its radius at some point...\"\"\"\n",
      "    \n",
      "    def area(self):\n",
      "        return self.radius**2 * np.pi"
     ],
     "language": "python",
     "metadata": {},
     "outputs": [],
     "prompt_number": 30
    },
    {
     "cell_type": "code",
     "collapsed": false,
     "input": [
      "c = FlakyCircle()"
     ],
     "language": "python",
     "metadata": {},
     "outputs": [],
     "prompt_number": 31
    },
    {
     "cell_type": "code",
     "collapsed": false,
     "input": [
      "c.radius = 2"
     ],
     "language": "python",
     "metadata": {},
     "outputs": [],
     "prompt_number": 32
    },
    {
     "cell_type": "code",
     "collapsed": false,
     "input": [
      "c.area()"
     ],
     "language": "python",
     "metadata": {},
     "outputs": [
      {
       "metadata": {},
       "output_type": "pyout",
       "prompt_number": 33,
       "text": [
        "12.566370614359172"
       ]
      }
     ],
     "prompt_number": 33
    },
    {
     "cell_type": "markdown",
     "metadata": {},
     "source": [
      "As we can see, there is sort of a contract to the implementation of this `FlakyCircle` class, that many of the methods assume there is a `.radius` attribute defined on the object.  If `.radius` has been set, the `area()` method will work.  But if the user forgot to set the `.radius`...."
     ]
    },
    {
     "cell_type": "code",
     "collapsed": false,
     "input": [
      "c2 = FlakyCircle()"
     ],
     "language": "python",
     "metadata": {},
     "outputs": [],
     "prompt_number": 34
    },
    {
     "cell_type": "code",
     "collapsed": false,
     "input": [
      "c2.area()"
     ],
     "language": "python",
     "metadata": {},
     "outputs": [
      {
       "ename": "AttributeError",
       "evalue": "'FlakyCircle' object has no attribute 'radius'",
       "output_type": "pyerr",
       "traceback": [
        "\u001b[1;31m---------------------------------------------------------------------------\u001b[0m\n\u001b[1;31mAttributeError\u001b[0m                            Traceback (most recent call last)",
        "\u001b[1;32m<ipython-input-35-52b3204aeaf5>\u001b[0m in \u001b[0;36m<module>\u001b[1;34m()\u001b[0m\n\u001b[1;32m----> 1\u001b[1;33m \u001b[0mc2\u001b[0m\u001b[1;33m.\u001b[0m\u001b[0marea\u001b[0m\u001b[1;33m(\u001b[0m\u001b[1;33m)\u001b[0m\u001b[1;33m\u001b[0m\u001b[0m\n\u001b[0m",
        "\u001b[1;32m<ipython-input-30-ea429509c686>\u001b[0m in \u001b[0;36marea\u001b[1;34m(self)\u001b[0m\n\u001b[0;32m      3\u001b[0m \u001b[1;33m\u001b[0m\u001b[0m\n\u001b[0;32m      4\u001b[0m     \u001b[1;32mdef\u001b[0m \u001b[0marea\u001b[0m\u001b[1;33m(\u001b[0m\u001b[0mself\u001b[0m\u001b[1;33m)\u001b[0m\u001b[1;33m:\u001b[0m\u001b[1;33m\u001b[0m\u001b[0m\n\u001b[1;32m----> 5\u001b[1;33m         \u001b[1;32mreturn\u001b[0m \u001b[0mself\u001b[0m\u001b[1;33m.\u001b[0m\u001b[0mradius\u001b[0m\u001b[1;33m**\u001b[0m\u001b[1;36m2\u001b[0m \u001b[1;33m*\u001b[0m \u001b[0mnp\u001b[0m\u001b[1;33m.\u001b[0m\u001b[0mpi\u001b[0m\u001b[1;33m\u001b[0m\u001b[0m\n\u001b[0m",
        "\u001b[1;31mAttributeError\u001b[0m: 'FlakyCircle' object has no attribute 'radius'"
       ]
      }
     ],
     "prompt_number": 35
    },
    {
     "cell_type": "markdown",
     "metadata": {},
     "source": [
      "We would have to very strongly document to the user that the `.radius` attribute must be set in order to use the circle's methods.  Or if we forget to document that the user would have to read the code to find this out, perhaps only after lots of time spent head-scratching.  It should be clear that this is bad design--if our circle methods require a radius to work we should require the radius be specified when the circle is constructed, and we handle setting the `.radius` attribute implicitly (from the user's perspective) in our `__init__`:"
     ]
    },
    {
     "cell_type": "code",
     "collapsed": false,
     "input": [
      "class Circle(object):\n",
      "    \"\"\"\n",
      "    An advanced circle analysis framework.\n",
      "    \n",
      "    Parameters\n",
      "    ----------\n",
      "    radius : float\n",
      "        The radius of the circle (required)\n",
      "    \"\"\"\n",
      "    \n",
      "    def __init__(self, radius):\n",
      "        self.radius = radius"
     ],
     "language": "python",
     "metadata": {},
     "outputs": [],
     "prompt_number": 36
    },
    {
     "cell_type": "markdown",
     "metadata": {},
     "source": [
      "Note finally that `__init__` does not `return` anything.  It is implicit when you call `c = Circle(1)`, you will be returned a `Circle` instance, and the instance you are returned is the one that `__init__` does its setup on.\n",
      "\n",
      "(There are rare exceptions to this.  We don't need to discuss them now, but if you are ever debugging someone else's code, and it doesn't seem to be behaving this way, you should know there is low-level magic that allows advanced developers to change this behavior, and that that might be what's going on--you aren't going crazy.  If you really want to read about how this kind of mischief is performed, Google the `__new__` (\"dunder new\") method in Python, also \"metaclasses\" in Python.  If you're just trying to learn the basics of classes this will end up being a massive and confusing distraction.  You have been warned.)"
     ]
    },
    {
     "cell_type": "markdown",
     "metadata": {},
     "source": [
      "To be clear, it is not *required* that all attributes on an object are set in the `__init__`.  It is possible, in general, to create or update an attribute at any point in the object's lifespan.  However, it is generally a good idea to declare what attributes an object will have in its `__init__`--it helps for understanding the code.  If some attribute doesn't have a sensible value at `__init__` time it can be set temporarily to `None` (we will see an example like this later in this tutorial)."
     ]
    },
    {
     "cell_type": "heading",
     "level": 3,
     "metadata": {},
     "source": [
      "Adding methods"
     ]
    },
    {
     "cell_type": "markdown",
     "metadata": {},
     "source": [
      "We can add any number of additional \"methods\" to a class as needed.  A \"method\" is simply a function that is bound to a specific class--it is defined in the body of the class it is bound to, it always takes `self` as its first argument, and `self` is always an instance of the class the method belongs to.\n",
      "\n",
      "We don't *have* to use methods to write functions that take our objects as their argument.  For example we could define an `area` function that lives outside the class:"
     ]
    },
    {
     "cell_type": "code",
     "collapsed": false,
     "input": [
      "class HobbledCircle(object):\n",
      "    def __init__(self, radius):\n",
      "        self.radius = radius\n",
      "        \n",
      "        \n",
      "def area_of_circle(circle):\n",
      "    return circle.radius ** 2 * np.pi"
     ],
     "language": "python",
     "metadata": {},
     "outputs": [],
     "prompt_number": 37
    },
    {
     "cell_type": "markdown",
     "metadata": {},
     "source": [
      "This `area` function could be defined *anywhere* in our code, so if we were given some `HobbledCircle` class someone else wrote, that doesn't already have an `area` method, we could define and use this function:"
     ]
    },
    {
     "cell_type": "code",
     "collapsed": false,
     "input": [
      "c = HobbledCircle(2)\n",
      "area_of_circle(c)"
     ],
     "language": "python",
     "metadata": {},
     "outputs": [
      {
       "metadata": {},
       "output_type": "pyout",
       "prompt_number": 38,
       "text": [
        "12.566370614359172"
       ]
      }
     ],
     "prompt_number": 38
    },
    {
     "cell_type": "markdown",
     "metadata": {},
     "source": [
      "But it's generally better, when we're designing our class, to think about what we (or other users) are most likely to want to do with it.  In this case we may have gathered some requirements, or even just had a *creative* insight, that any `Circle` class we write probably ought to have a method to compute its area:"
     ]
    },
    {
     "cell_type": "code",
     "collapsed": false,
     "input": [
      "class Circle(object):\n",
      "    \"\"\"\n",
      "    An advanced circle analysis framework.\n",
      "    \n",
      "    Parameters\n",
      "    ----------\n",
      "    radius : float\n",
      "        The radius of the circle (required)\n",
      "    \"\"\"\n",
      "    \n",
      "    def __init__(self, radius):\n",
      "        self.radius = radius\n",
      "        \n",
      "    def area(self):\n",
      "        \"\"\"Computes the area of the circle.\"\"\"\n",
      "        \n",
      "        return self.radius ** 2 * np.pi"
     ],
     "language": "python",
     "metadata": {},
     "outputs": [],
     "prompt_number": 39
    },
    {
     "cell_type": "code",
     "collapsed": false,
     "input": [
      "c = Circle(2)\n",
      "c.area()"
     ],
     "language": "python",
     "metadata": {},
     "outputs": [
      {
       "metadata": {},
       "output_type": "pyout",
       "prompt_number": 40,
       "text": [
        "12.566370614359172"
       ]
      }
     ],
     "prompt_number": 40
    },
    {
     "cell_type": "markdown",
     "metadata": {},
     "source": [
      "This is much more convenient, and easier to understand too.  All the useful things we can do with a `Circle` are defined on the `Circle` class itself, and can be kept internally consistent (we can be sure that a circle always has a radius attribute, and always has an area method, etc.)"
     ]
    },
    {
     "cell_type": "heading",
     "level": 2,
     "metadata": {},
     "source": [
      "String representations"
     ]
    },
    {
     "cell_type": "markdown",
     "metadata": {},
     "source": [
      "We've seen already that objects we create from our own classes have a sort of default string representation that isn't terribly illuminating:"
     ]
    },
    {
     "cell_type": "code",
     "collapsed": false,
     "input": [
      "my_circle"
     ],
     "language": "python",
     "metadata": {},
     "outputs": [
      {
       "metadata": {},
       "output_type": "pyout",
       "prompt_number": 41,
       "text": [
        "<__main__.Circle at 0x51ab2d0>"
       ]
      }
     ],
     "prompt_number": 41
    },
    {
     "cell_type": "markdown",
     "metadata": {},
     "source": [
      "It does tell us that this is a thing called `Circle` (and that it's defined in the `__main__` module--if this were in a `.py` file like, for example `shapes.py` this \"fully qualified\" name of the class would be `shapes.Circle`).  The string of hex digits after the \"at\" is the actual memory address of this circle object.  If we create a new instance of `Circle` it will have a different address every time (regardless of what we give for its radius)."
     ]
    },
    {
     "cell_type": "code",
     "collapsed": false,
     "input": [
      "my_circle_2 = Circle(4)"
     ],
     "language": "python",
     "metadata": {},
     "outputs": [],
     "prompt_number": 42
    },
    {
     "cell_type": "code",
     "collapsed": false,
     "input": [
      "my_circle_2"
     ],
     "language": "python",
     "metadata": {},
     "outputs": [
      {
       "metadata": {},
       "output_type": "pyout",
       "prompt_number": 43,
       "text": [
        "<__main__.Circle at 0x51abe90>"
       ]
      }
     ],
     "prompt_number": 43
    },
    {
     "cell_type": "markdown",
     "metadata": {},
     "source": [
      "Perhaps we'd like to have a slightly more useful representation of our circles for use when exploring them in the terminal, so that we don't have to type `my_circle.radius` every time we want to know something about our circles.  We've already seen before that objects *can* have more useful default representations.  Take Numpy arrays for example:"
     ]
    },
    {
     "cell_type": "code",
     "collapsed": false,
     "input": [
      "my_array = np.arange(10)\n",
      "my_array"
     ],
     "language": "python",
     "metadata": {},
     "outputs": [
      {
       "metadata": {},
       "output_type": "pyout",
       "prompt_number": 44,
       "text": [
        "array([0, 1, 2, 3, 4, 5, 6, 7, 8, 9])"
       ]
      }
     ],
     "prompt_number": 44
    },
    {
     "cell_type": "markdown",
     "metadata": {},
     "source": [
      "To get the same sort of behavior we define a special method on our `Circle` class called `__repr__`.  It takes only one argument (`self`) and it *must* return a string.  That string can be whatever you want your object's representation to be.  Let's redefine `Circle` with a `__repr__`:"
     ]
    },
    {
     "cell_type": "code",
     "collapsed": false,
     "input": [
      "# A Circle class with a friendler, more informative __repr__\n",
      "\n",
      "class Circle(object):\n",
      "    \"\"\"Represents a circle with a given radius.\"\"\"\n",
      "    \n",
      "    def __init__(self, radius):\n",
      "        self.radius = radius\n",
      "        \n",
      "    def __repr__(self):\n",
      "        # NOTE: This an subsequent examples are using \"new style\" string formatting\n",
      "        # available in Python 2.6 and up; read more about it here if you haven't seen\n",
      "        # this before and are curious: http://www.python.org/dev/peps/pep-3101/\n",
      "        # (this is the actual PEP that defined the new formatting; it's actually pretty\n",
      "        # readable, provides lots of examples, and justification for the new style versus\n",
      "        # the old % formatting syntax most of you are familiar with)\n",
      "        return '<Circle(radius={radius})>'.format(radius=self.radius)\n",
      "        \n",
      "    def circumference(self):\n",
      "        return 2 * np.pi * self.radius\n",
      "        \n",
      "    def area(self):\n",
      "        return np.pi * self.radius ** 2"
     ],
     "language": "python",
     "metadata": {},
     "outputs": [],
     "prompt_number": 45
    },
    {
     "cell_type": "markdown",
     "metadata": {},
     "source": [
      "Now let's make a circle again with our new `Circle` class definition:"
     ]
    },
    {
     "cell_type": "code",
     "collapsed": false,
     "input": [
      "my_circle = Circle(3)\n",
      "my_circle"
     ],
     "language": "python",
     "metadata": {},
     "outputs": [
      {
       "metadata": {},
       "output_type": "pyout",
       "prompt_number": 46,
       "text": [
        "<Circle(radius=3)>"
       ]
      }
     ],
     "prompt_number": 46
    },
    {
     "cell_type": "markdown",
     "metadata": {},
     "source": [
      "Now we know whenever a `Circle` object is displayed something a little more useful about it.  We could go even further than this and display its area and circumference as well since these are fast to compute (though I wouldn't recommend putting anything complicated/time-consuming in `__repr__`):"
     ]
    },
    {
     "cell_type": "code",
     "collapsed": false,
     "input": [
      "# A Circle class with an even *more* informative __repr__\n",
      "\n",
      "class Circle(object):\n",
      "    \"\"\"Represents a circle with a given radius.\"\"\"\n",
      "    \n",
      "    def __init__(self, radius):\n",
      "        self.radius = radius\n",
      "        \n",
      "    def __repr__(self):\n",
      "        return '<Circle(radius={radius}, circumference={circumference}, area={area})>'.format(\n",
      "            radius=self.radius, circumference=self.circumference(), area=self.area())\n",
      "        \n",
      "    def circumference(self):\n",
      "        return 2 * np.pi * self.radius\n",
      "        \n",
      "    def area(self):\n",
      "        return np.pi * self.radius ** 2"
     ],
     "language": "python",
     "metadata": {},
     "outputs": [],
     "prompt_number": 47
    },
    {
     "cell_type": "code",
     "collapsed": false,
     "input": [
      "# We have to make a new circle instance again because our *previous* my_circle is still using the old definition of the Circle class\n",
      "my_circle = Circle(3)\n",
      "my_circle"
     ],
     "language": "python",
     "metadata": {},
     "outputs": [
      {
       "metadata": {},
       "output_type": "pyout",
       "prompt_number": 48,
       "text": [
        "<Circle(radius=3, circumference=18.8495559215, area=28.2743338823)>"
       ]
      }
     ],
     "prompt_number": 48
    },
    {
     "cell_type": "markdown",
     "metadata": {},
     "source": [
      "One cool feature *specific* to IPython Notebook is that it recognizes other kinds of `__repr__` like methods on objects.  For example if you define a method on your class called `_repr_html_`, instead of displaying the string returned by `__repr__` it will insert some HTML representing your object into the notebook.  For example we could make a `_repr_html_` for circles like so:"
     ]
    },
    {
     "cell_type": "code",
     "collapsed": false,
     "input": [
      "class Circle(object):\n",
      "    \"\"\"Represents a circle with a given radius.\"\"\"\n",
      "    \n",
      "    def __init__(self, radius):\n",
      "        self.radius = radius\n",
      "        \n",
      "    def __repr__(self):\n",
      "        return '<Circle(radius={radius}, circumference={circumference}, area={area})>'.format(\n",
      "            radius=self.radius, circumference=self.circumference(), area=self.area())\n",
      "    \n",
      "    def _repr_html_(self):\n",
      "        return ('<div style=\"width: {scale}px; height: {scale}px; '\n",
      "                'border: 1px solid black; border-radius: {scale}px; '\n",
      "                'text-align: center; line-height: {scale}px;\">$ r={radius} $</div>'.format(\n",
      "                scale=self.radius * 100, radius=self.radius))\n",
      "        \n",
      "    def circumference(self):\n",
      "        return 2 * np.pi * self.radius\n",
      "        \n",
      "    def area(self):\n",
      "        return np.pi * self.radius ** 2"
     ],
     "language": "python",
     "metadata": {},
     "outputs": [],
     "prompt_number": 49
    },
    {
     "cell_type": "code",
     "collapsed": false,
     "input": [
      "my_circle = Circle(3)\n",
      "my_circle"
     ],
     "language": "python",
     "metadata": {},
     "outputs": [
      {
       "html": [
        "<div style=\"width: 300px; height: 300px; border: 1px solid black; border-radius: 300px; text-align: center; line-height: 300px;\">$ r=3 $</div>"
       ],
       "metadata": {},
       "output_type": "pyout",
       "prompt_number": 50,
       "text": [
        "<Circle(radius=3, circumference=18.8495559215, area=28.2743338823)>"
       ]
      }
     ],
     "prompt_number": 50
    },
    {
     "cell_type": "markdown",
     "metadata": {},
     "source": [
      "To give a quick preview of subclassing, we could even define a colored circle subclass:"
     ]
    },
    {
     "cell_type": "code",
     "collapsed": false,
     "input": [
      "class ColoredCircle(Circle):\n",
      "    \"\"\"Represents a circle with a given radius and a color.\"\"\"\n",
      "    \n",
      "    def __init__(self, radius, color='white'):\n",
      "        super(ColoredCircle, self).__init__(radius)\n",
      "        self.color = color\n",
      "    \n",
      "    def _repr_html_(self):\n",
      "        return ('<div style=\"width: {scale}px; height: {scale}px; '\n",
      "                'border: 1px solid black; border-radius: {scale}px; '\n",
      "                'text-align: center; line-height: {scale}px; '\n",
      "                'background-color: {color}\">$ r={radius} $</div>'.format(\n",
      "                scale=self.radius * 100, radius=self.radius, color=self.color))"
     ],
     "language": "python",
     "metadata": {},
     "outputs": [],
     "prompt_number": 51
    },
    {
     "cell_type": "code",
     "collapsed": false,
     "input": [
      "my_colored_circle = ColoredCircle(1, 'red')\n",
      "my_colored_circle"
     ],
     "language": "python",
     "metadata": {},
     "outputs": [
      {
       "html": [
        "<div style=\"width: 100px; height: 100px; border: 1px solid black; border-radius: 100px; text-align: center; line-height: 100px; background-color: red\">$ r=1 $</div>"
       ],
       "metadata": {},
       "output_type": "pyout",
       "prompt_number": 52,
       "text": [
        "<Circle(radius=1, circumference=6.28318530718, area=3.14159265359)>"
       ]
      }
     ],
     "prompt_number": 52
    },
    {
     "cell_type": "code",
     "collapsed": false,
     "input": [
      "# As an aside, note that in the ColoredCircle definition we did *not* define area() or circumference();\n",
      "# that's because they're automatically inherited from the _base class_ Circle\n",
      "my_colored_circle.area()"
     ],
     "language": "python",
     "metadata": {},
     "outputs": [
      {
       "metadata": {},
       "output_type": "pyout",
       "prompt_number": 53,
       "text": [
        "3.141592653589793"
       ]
      }
     ],
     "prompt_number": 53
    },
    {
     "cell_type": "code",
     "collapsed": false,
     "input": [
      "# Astropy Tables make good use of this feature (skip this example if you don't have Astropy)\n",
      "from astropy.table import Table\n",
      "table = Table([[1, 2, 3], [4, 5, 6]])\n",
      "table"
     ],
     "language": "python",
     "metadata": {},
     "outputs": [
      {
       "html": [
        "&lt;Table masked=False length=3&gt;\n",
        "<table id=\"table85706320\">\n",
        "<thead><tr><th>col0</th><th>col1</th></tr></thead>\n",
        "<thead><tr><th>int32</th><th>int32</th></tr></thead>\n",
        "<tr><td>1</td><td>4</td></tr>\n",
        "<tr><td>2</td><td>5</td></tr>\n",
        "<tr><td>3</td><td>6</td></tr>\n",
        "</table>"
       ],
       "metadata": {},
       "output_type": "pyout",
       "prompt_number": 54,
       "text": [
        "<Table masked=False length=3>\n",
        " col0  col1\n",
        "int32 int32\n",
        "----- -----\n",
        "    1     4\n",
        "    2     5\n",
        "    3     6"
       ]
      }
     ],
     "prompt_number": 54
    },
    {
     "cell_type": "heading",
     "level": 2,
     "metadata": {},
     "source": [
      "Properties"
     ]
    },
    {
     "cell_type": "markdown",
     "metadata": {},
     "source": [
      "On some level it makes sense that `.area()` and `.circumference()` are methods of the `Circle` class that you have to call--they perform a calculation on the radius, after all.  However, we could have just as easily defined our circle in terms of its area, or in terms of its circumference instead of its radius.  So on a more abstract level area and circumference are just as intrinsic to a circle as its radius and should not be treated any differently.  What if we wanted to define a `Circle` class such that `.area` and `.circumference` are *attributes* of a circle just like `.radius` is, and don't have to be \"called\".\n",
      "\n",
      "There are a couple ways to do this.  This first is to simply define `self.area` and `self.circumference` attributes in the `__init__` function just like did with `self.radius`, and remove the `circumference()` and `area()` methods:"
     ]
    },
    {
     "cell_type": "code",
     "collapsed": false,
     "input": [
      "# Circle class with area and circumference as simple attributes computed in terms of the radius\n",
      "class Circle(object):\n",
      "    \"\"\"Represents a circle with a given radius.\"\"\"\n",
      "    \n",
      "    def __init__(self, radius):\n",
      "        self.radius = radius\n",
      "        self.circumference = 2 * np.pi * radius\n",
      "        self.area = np.pi * radius ** 2\n",
      "        \n",
      "    def __repr__(self):\n",
      "        return '<Circle(radius={radius}, circumference={circumference}, area={area})>'.format(\n",
      "            radius=self.radius, circumference=self.circumference, area=self.area)"
     ],
     "language": "python",
     "metadata": {},
     "outputs": [],
     "prompt_number": 55
    },
    {
     "cell_type": "code",
     "collapsed": false,
     "input": [
      "my_circle = Circle(3)\n",
      "my_circle"
     ],
     "language": "python",
     "metadata": {},
     "outputs": [
      {
       "metadata": {},
       "output_type": "pyout",
       "prompt_number": 56,
       "text": [
        "<Circle(radius=3, circumference=18.8495559215, area=28.2743338823)>"
       ]
      }
     ],
     "prompt_number": 56
    },
    {
     "cell_type": "code",
     "collapsed": false,
     "input": [
      "my_circle.area"
     ],
     "language": "python",
     "metadata": {},
     "outputs": [
      {
       "metadata": {},
       "output_type": "pyout",
       "prompt_number": 57,
       "text": [
        "28.274333882308138"
       ]
      }
     ],
     "prompt_number": 57
    },
    {
     "cell_type": "markdown",
     "metadata": {},
     "source": [
      "Great.  But this has a big problem--what happens when we redefine the circle's radius?"
     ]
    },
    {
     "cell_type": "code",
     "collapsed": false,
     "input": [
      "my_circle.radius = 5\n",
      "my_circle.radius"
     ],
     "language": "python",
     "metadata": {},
     "outputs": [
      {
       "metadata": {},
       "output_type": "pyout",
       "prompt_number": 58,
       "text": [
        "5"
       ]
      }
     ],
     "prompt_number": 58
    },
    {
     "cell_type": "code",
     "collapsed": false,
     "input": [
      "my_circle.area"
     ],
     "language": "python",
     "metadata": {},
     "outputs": [
      {
       "metadata": {},
       "output_type": "pyout",
       "prompt_number": 59,
       "text": [
        "28.274333882308138"
       ]
      }
     ],
     "prompt_number": 59
    },
    {
     "cell_type": "markdown",
     "metadata": {},
     "source": [
      "The area didn't update!  That's because the area was only set when we first instantiated the object.  Overriding the `.radius` attribute simply defines a new radius, but the class doesn't magically know that the area and circumference must be tied to the radius somehow.  Now we could have made `Circle` class so that circles are *immutable* as we discussed earlier.  Then it would be impossible to override the radius (or the area, etc.) of a circle object once it's created.  And that would be one way around this.  But for now let's stick with the example of a mutable circle.\n",
      "\n",
      "A better way to deal with this is to use *properties*.  Without going into detail about the way this works, for *any* method on a class that takes (`self`) as the *only* argument (that is, you call it without any arguments like we did with `my_circle.area()`) we can make it act like an *attribute* by putting `@property` on top of the method definitions like so:"
     ]
    },
    {
     "cell_type": "code",
     "collapsed": false,
     "input": [
      "# A Circle class with .area and .circumference as properties\n",
      "class Circle(object):\n",
      "    \"\"\"Represents a circle with a given radius.\"\"\"\n",
      "    \n",
      "    def __init__(self, radius):\n",
      "        self.radius = radius\n",
      "        \n",
      "    def __repr__(self):\n",
      "        return '<Circle(radius={radius}, circumference={circumference}, area={area})>'.format(\n",
      "            radius=self.radius, circumference=self.circumference, area=self.area)\n",
      "        \n",
      "    @property\n",
      "    def circumference(self):\n",
      "        \"\"\"The circumference of the Circle.\"\"\"\n",
      "        \n",
      "        return 2 * np.pi * self.radius\n",
      "        \n",
      "    @property\n",
      "    def area(self):\n",
      "        \"\"\"The area of the Circle.\"\"\"\n",
      "        \n",
      "        return np.pi * self.radius ** 2"
     ],
     "language": "python",
     "metadata": {},
     "outputs": [],
     "prompt_number": 60
    },
    {
     "cell_type": "code",
     "collapsed": false,
     "input": [
      "my_circle = Circle(3)\n",
      "my_circle"
     ],
     "language": "python",
     "metadata": {},
     "outputs": [
      {
       "metadata": {},
       "output_type": "pyout",
       "prompt_number": 61,
       "text": [
        "<Circle(radius=3, circumference=18.8495559215, area=28.2743338823)>"
       ]
      }
     ],
     "prompt_number": 61
    },
    {
     "cell_type": "code",
     "collapsed": false,
     "input": [
      "my_circle.area"
     ],
     "language": "python",
     "metadata": {},
     "outputs": [
      {
       "metadata": {},
       "output_type": "pyout",
       "prompt_number": 62,
       "text": [
        "28.274333882308138"
       ]
      }
     ],
     "prompt_number": 62
    },
    {
     "cell_type": "code",
     "collapsed": false,
     "input": [
      "# Now we can redefine the circle's radius and still get useful results for .area and .circumference\n",
      "my_circle.radius = 5\n",
      "my_circle.area"
     ],
     "language": "python",
     "metadata": {},
     "outputs": [
      {
       "metadata": {},
       "output_type": "pyout",
       "prompt_number": 63,
       "text": [
        "78.53981633974483"
       ]
      }
     ],
     "prompt_number": 63
    },
    {
     "cell_type": "code",
     "collapsed": false,
     "input": [
      "my_circle.circumference"
     ],
     "language": "python",
     "metadata": {},
     "outputs": [
      {
       "metadata": {},
       "output_type": "pyout",
       "prompt_number": 64,
       "text": [
        "31.41592653589793"
       ]
      }
     ],
     "prompt_number": 64
    },
    {
     "cell_type": "markdown",
     "metadata": {},
     "source": [
      "The way this works is every time you do `my_circle.area` it *calls* the underlying `area()` function and returns the floating point result.  By making it a property it just allows us to omit the empty parentheses (exercise: try doing this yourself and see what happens if you try to call `my_circle.area()` now that `.area` is a property).\n",
      "\n",
      "**NOTE:** Do not use properties for just *any* method that takes no arguments thinking that allowing you to drop the `()` is a convenient shortcut.  As a conceptual matter, only use it for things that could be considered some kind of \"intrinsic\" property of your object (hence the term *property*).  Admittedly this is a bit fuzzy and depends entirely on the type of thing you're trying to represent. But in general don't make things properties unless it seems \"natural\" that it should work that way.  In other words, don't use them until you think you need them."
     ]
    },
    {
     "cell_type": "heading",
     "level": 3,
     "metadata": {},
     "source": [
      "Caching results / avoiding repeat calculations"
     ]
    },
    {
     "cell_type": "markdown",
     "metadata": {},
     "source": [
      "The couple of examples we've seen of properties involve very trivial calculations (in this case the circumference and area of a circle).  However, some properties may be very expensive to compute, and may rarely if ever need to return a different value than the one they return the first time they are accessed.  For example, once a circle's radius is set, its circumference and area never change, so we should be able to avoid recalculating them.  There are several possible approaches to this.\n",
      "\n",
      "What we would like to look at first is actually making an *immutable* circle--one that does not allow us to change its radius (or any other properties) once it has been created:"
     ]
    },
    {
     "cell_type": "code",
     "collapsed": false,
     "input": [
      "# A Circle class with .area and .circumference as properties\n",
      "class ImmutableCircle(object):\n",
      "    \"\"\"Represents a circle with a given radius.\"\"\"\n",
      "    \n",
      "    def __init__(self, radius):\n",
      "        self._radius = radius\n",
      "        \n",
      "    def __repr__(self):\n",
      "        return '<Circle(radius={radius}, circumference={circumference}, area={area})>'.format(\n",
      "            radius=self.radius, circumference=self.circumference, area=self.area)\n",
      "    \n",
      "    @property\n",
      "    def radius(self):\n",
      "        return self._radius\n",
      "        \n",
      "    @property\n",
      "    def circumference(self):\n",
      "        return 2 * np.pi * self.radius\n",
      "        \n",
      "    @property\n",
      "    def area(self):\n",
      "        return np.pi * self.radius ** 2"
     ],
     "language": "python",
     "metadata": {},
     "outputs": [],
     "prompt_number": 65
    },
    {
     "cell_type": "markdown",
     "metadata": {},
     "source": [
      "Note how this is different from our previous `Circle` implementation:  In the `__init__` we do not save the user-supplied radius to a `.radius` attribute.  Instead we store it in an \"internal\" attribute called `._radius`.  We then define `radius` to be a *property* which simply returns the internal attribute `self._radius`.  This seems pretty round-about--what's the point?\n",
      "\n",
      "Well, for one, one feature of *properties* is that by default you can't set values to them like you can with normal attributes.  Let's see what happens if we create an `ImmutableCircle` and then try to update its radius:"
     ]
    },
    {
     "cell_type": "code",
     "collapsed": false,
     "input": [
      "c = ImmutableCircle(1)"
     ],
     "language": "python",
     "metadata": {},
     "outputs": [],
     "prompt_number": 66
    },
    {
     "cell_type": "code",
     "collapsed": false,
     "input": [
      "c.radius = 5"
     ],
     "language": "python",
     "metadata": {},
     "outputs": [
      {
       "ename": "AttributeError",
       "evalue": "can't set attribute",
       "output_type": "pyerr",
       "traceback": [
        "\u001b[1;31m---------------------------------------------------------------------------\u001b[0m\n\u001b[1;31mAttributeError\u001b[0m                            Traceback (most recent call last)",
        "\u001b[1;32m<ipython-input-67-59715b9d1c5e>\u001b[0m in \u001b[0;36m<module>\u001b[1;34m()\u001b[0m\n\u001b[1;32m----> 1\u001b[1;33m \u001b[0mc\u001b[0m\u001b[1;33m.\u001b[0m\u001b[0mradius\u001b[0m \u001b[1;33m=\u001b[0m \u001b[1;36m5\u001b[0m\u001b[1;33m\u001b[0m\u001b[0m\n\u001b[0m",
        "\u001b[1;31mAttributeError\u001b[0m: can't set attribute"
       ]
      }
     ],
     "prompt_number": 67
    },
    {
     "cell_type": "markdown",
     "metadata": {},
     "source": [
      "This is what we meant by calling this `ImmutableCircle`--once the object has first been created, the main attribute that defines the circle, its radius, cannot be changed.  If you want a different circle with a different radius you'll have to create a new `ImmutableCircle` instance.  There are often good reasons to define a class or data structure to be immutable in this sense, but that would be a digression.\n",
      "\n",
      "(Note: We didn't have to name this class `ImmutableCircle`--if our design decision from the start was that circles should be immutable we could have just called the class `Circle`, and specified in the docstring that `Circle` instances are immutable.  The example is just named `ImmutableCircle` to distinguish it from the previous `Circle` example.)"
     ]
    },
    {
     "cell_type": "markdown",
     "metadata": {},
     "source": [
      "Now that we have `ImmutableCircle` with a radius that can never be changed, then there is no reason to recompute the circumference and area of that circle every time the `.area` and `.circumference` are accessed.  What we'll do to get around this is we will define internal attributes for `.area` and `.circumference` as well.  When the `.area` and `.circumference` properties are accessed we check to see if those values have already been computed by checking if `._area` or `._circumference` are set.  If not we compute them, and then save the result to the internal attributes. Subsequent accesses we can then return the values of the internal attributes:"
     ]
    },
    {
     "cell_type": "code",
     "collapsed": false,
     "input": [
      "# A Circle class with .area and .circumference as properties\n",
      "class ImmutableCircle(object):\n",
      "    \"\"\"Represents a circle with a given radius.\"\"\"\n",
      "    \n",
      "    def __init__(self, radius):\n",
      "        self._radius = radius\n",
      "        \n",
      "        # Area and Circumference should be numbers once they are\n",
      "        # computed, so in the meantime we use the None builtin as\n",
      "        # a placeholder to indicate that these values have not been\n",
      "        # set yet--this is what None is most commonly used for\n",
      "        self._circumference = None\n",
      "        self._area = None\n",
      "        \n",
      "    def __repr__(self):\n",
      "        return '<Circle(radius={radius}, circumference={circumference}, area={area})>'.format(\n",
      "            radius=self.radius, circumference=self.circumference, area=self.area)\n",
      "    \n",
      "    @property\n",
      "    def radius(self):\n",
      "        return self._radius\n",
      "        \n",
      "    @property\n",
      "    def circumference(self):\n",
      "        if self._circumference is None:\n",
      "            # Always use the \"is\" operator when checking if a value is\n",
      "            # is None.  Don't use \"== None\".  Any idea why?\n",
      "            \n",
      "            # self._radius has not been set yet, so compute the radius\n",
      "            # and save it in self._radius for future reuse\n",
      "            self._circumference = 2 * np.pi * self.radius\n",
      "            \n",
      "            # A debug statement just for proof\n",
      "            print('Computing the circumference of circle with radius {0}'.format(self._radius))\n",
      " \n",
      "        # Now return the saved circumference (which we might have just computed above)\n",
      "        return self._circumference\n",
      "        \n",
      "    @property\n",
      "    def area(self):\n",
      "        if self._area is None:\n",
      "            self._area = np.pi * self.radius ** 2\n",
      "            \n",
      "        return self._area"
     ],
     "language": "python",
     "metadata": {},
     "outputs": [],
     "prompt_number": 68
    },
    {
     "cell_type": "code",
     "collapsed": false,
     "input": [
      "c = ImmutableCircle(1)"
     ],
     "language": "python",
     "metadata": {},
     "outputs": [],
     "prompt_number": 69
    },
    {
     "cell_type": "code",
     "collapsed": false,
     "input": [
      "c.circumference"
     ],
     "language": "python",
     "metadata": {},
     "outputs": [
      {
       "output_type": "stream",
       "stream": "stdout",
       "text": [
        "Computing the circumference of circle with radius 1\n"
       ]
      },
      {
       "metadata": {},
       "output_type": "pyout",
       "prompt_number": 70,
       "text": [
        "6.283185307179586"
       ]
      }
     ],
     "prompt_number": 70
    },
    {
     "cell_type": "code",
     "collapsed": false,
     "input": [
      "# When we access the .circumference again we still get the same value returned, but we don't see the debug\n",
      "# statement because the circumference has already been computed\n",
      "c.circumference"
     ],
     "language": "python",
     "metadata": {},
     "outputs": [
      {
       "metadata": {},
       "output_type": "pyout",
       "prompt_number": 71,
       "text": [
        "6.283185307179586"
       ]
      }
     ],
     "prompt_number": 71
    },
    {
     "cell_type": "markdown",
     "metadata": {},
     "source": [
      "We could also make a *mutable* `Circle` class that allows the radius to be updated, resulting in changes to the circumference and area (or we could even make it so that the circumference and area can be set, keeping all these values properly tied to each other).\n",
      "\n",
      "This will be left mostly as an exercise.  However, recall that we said that by *default* properties are not settable.  But we can make settable properties as well, which we'll want for this exercise.  This is the syntax (which looks a bit strange because we define \"foo\" twice--once as a \"getter\" and once as a \"setter\":"
     ]
    },
    {
     "cell_type": "code",
     "collapsed": false,
     "input": [
      "class SettableProperties(object):\n",
      "    def __init__(self):\n",
      "        self._foo = 1\n",
      "        \n",
      "    @property\n",
      "    def foo(self):\n",
      "        print(\"Getting the value for the .foo attribute:\")\n",
      "        return self._foo\n",
      "    \n",
      "    @foo.setter\n",
      "    def foo(self, value):\n",
      "        print(\"Setting the value for the .foo attribute to {0}\".format(value))\n",
      "        self._foo = value"
     ],
     "language": "python",
     "metadata": {},
     "outputs": [],
     "prompt_number": 72
    },
    {
     "cell_type": "code",
     "collapsed": false,
     "input": [
      "s = SettableProperties()"
     ],
     "language": "python",
     "metadata": {},
     "outputs": [],
     "prompt_number": 73
    },
    {
     "cell_type": "code",
     "collapsed": false,
     "input": [
      "s.foo"
     ],
     "language": "python",
     "metadata": {},
     "outputs": [
      {
       "output_type": "stream",
       "stream": "stdout",
       "text": [
        "Getting the value for the .foo attribute:\n"
       ]
      },
      {
       "metadata": {},
       "output_type": "pyout",
       "prompt_number": 74,
       "text": [
        "1"
       ]
      }
     ],
     "prompt_number": 74
    },
    {
     "cell_type": "code",
     "collapsed": false,
     "input": [
      "s.foo = 5"
     ],
     "language": "python",
     "metadata": {},
     "outputs": [
      {
       "output_type": "stream",
       "stream": "stdout",
       "text": [
        "Setting the value for the .foo attribute to 5\n"
       ]
      }
     ],
     "prompt_number": 75
    },
    {
     "cell_type": "code",
     "collapsed": false,
     "input": [
      "s.foo"
     ],
     "language": "python",
     "metadata": {},
     "outputs": [
      {
       "output_type": "stream",
       "stream": "stdout",
       "text": [
        "Getting the value for the .foo attribute:\n"
       ]
      },
      {
       "metadata": {},
       "output_type": "pyout",
       "prompt_number": 76,
       "text": [
        "5"
       ]
      }
     ],
     "prompt_number": 76
    },
    {
     "cell_type": "markdown",
     "metadata": {},
     "source": [
      "Using this syntax, see if you can implement a `MutableCircle` that ties together radius, circumference, and area.  For bonus points see if you can still avoid recalculating new values until they're needed.  For example, if the radius is updated, don't calculate the new circumference or area until those attribute are accessed again."
     ]
    },
    {
     "cell_type": "markdown",
     "metadata": {},
     "source": [
      "As a final note on this topic, the above pattern for caching the results of properties in hidden attribute is so common, that Astropy comes with a special utility called `@lazyproperty` that handles a lot of this for you (I have been meaning to propose this for inclusion in the Python standard library).  You don't have to manually set up any hidden attributes.  Instead you can declare something as a `@lazyproperty` just as you do a `@property`, and it will handle caching the result for you:"
     ]
    },
    {
     "cell_type": "code",
     "collapsed": false,
     "input": [
      "from astropy.utils import lazyproperty\n",
      "import time\n",
      "\n",
      "class LazyCircle(object):\n",
      "    \"\"\"Circle that lazily computes and caches its area.\"\"\"\n",
      "    \n",
      "    def __init__(self, radius):\n",
      "        self.radius = radius\n",
      "        \n",
      "    @lazyproperty\n",
      "    def area(self):\n",
      "        print(\"Performing lengthy calculation of the circle's area...\")\n",
      "        area = self.radius ** 2 * np.pi\n",
      "        time.sleep(30)  # No, this is really a time-consuming calculation, I swear...\n",
      "        print(\"Done calculation!\")\n",
      "        return area"
     ],
     "language": "python",
     "metadata": {},
     "outputs": [],
     "prompt_number": 77
    },
    {
     "cell_type": "markdown",
     "metadata": {},
     "source": [
      "The first time we look up the area defined as a `lazyproperty` it will go ahead and do the calculation since it hasn't been done already:"
     ]
    },
    {
     "cell_type": "code",
     "collapsed": false,
     "input": [
      "c = LazyCircle(2)"
     ],
     "language": "python",
     "metadata": {},
     "outputs": [],
     "prompt_number": 78
    },
    {
     "cell_type": "code",
     "collapsed": false,
     "input": [
      "c.area"
     ],
     "language": "python",
     "metadata": {},
     "outputs": [
      {
       "output_type": "stream",
       "stream": "stdout",
       "text": [
        "Performing lengthy calculation of the circle's area...\n",
        "Done calculation!"
       ]
      },
      {
       "output_type": "stream",
       "stream": "stdout",
       "text": [
        "\n"
       ]
      },
      {
       "metadata": {},
       "output_type": "pyout",
       "prompt_number": 79,
       "text": [
        "12.566370614359172"
       ]
      }
     ],
     "prompt_number": 79
    },
    {
     "cell_type": "markdown",
     "metadata": {},
     "source": [
      "However, it automagically stores the first result from calculating that circle's area, and returns that result on all subsequent lookups of `.area` without repeating the calculation:"
     ]
    },
    {
     "cell_type": "code",
     "collapsed": false,
     "input": [
      "c.area"
     ],
     "language": "python",
     "metadata": {},
     "outputs": [
      {
       "metadata": {},
       "output_type": "pyout",
       "prompt_number": 80,
       "text": [
        "12.566370614359172"
       ]
      }
     ],
     "prompt_number": 80
    },
    {
     "cell_type": "heading",
     "level": 2,
     "metadata": {},
     "source": [
      "Alternate initializers"
     ]
    },
    {
     "cell_type": "markdown",
     "metadata": {},
     "source": [
      "Classes in Python by default can only have one initalizer--the method that is called to set up a new instance of the class.  That method is `__init__`, and its arguments determine how we specify circles.  In all the examples we've seen so far a circle is specified by its radius.\n",
      "\n",
      "However, as discussed in the beginning of the section on properties, we could just as well and explicitly specify a circle by its circumference.  Perhaps we have a user who has a text file containing thousands of circumferences, and wants to initialize her circle objects by their circumference.  This is not an entirely unreasonable request.  We *could* just rewrite our `Circle` class so that it takes a circumference instead of a radius.  But that would completely break `Circle` for the majority of users who use radii to define their circles.\n",
      "\n",
      "Perhaps, in the meantime, we might ask our user to just define their own custom *factory function* that takes a circumference and returns a `Circle` with the appropriate radius:"
     ]
    },
    {
     "cell_type": "code",
     "collapsed": false,
     "input": [
      "def circle_from_circumference(circumference):\n",
      "    radius = circumference / (2 * np.pi)\n",
      "    return Circle(radius=radius)"
     ],
     "language": "python",
     "metadata": {},
     "outputs": [],
     "prompt_number": 81
    },
    {
     "cell_type": "code",
     "collapsed": false,
     "input": [
      "circle_from_circumference(6.28)"
     ],
     "language": "python",
     "metadata": {},
     "outputs": [
      {
       "metadata": {},
       "output_type": "pyout",
       "prompt_number": 82,
       "text": [
        "<Circle(radius=0.999493042617, circumference=6.28, area=3.13840815382)>"
       ]
      }
     ],
     "prompt_number": 82
    },
    {
     "cell_type": "markdown",
     "metadata": {},
     "source": [
      "This isn't so bad as a stop-gap measure, but it is still a burden.  For example now our user, who prefers circumferences, must import the `circle_from_circumference` function any time she wants to use `Circle`s, and can't just use `Circle` directly.\n",
      "\n",
      "Perhaps also god (that is, we, as the creators of the original `Circle` class) has decided to change how the circumference of a circle is defined.  Or perhaps we've decided that all circle calculations must be made with tau, or an angel will cry.  We don't want to burden our user with that responsibility.  In any case, a `Circle` should be able to handle its own affairs.\n",
      "\n",
      "Since Python only allows one default initializer, we'll leave that as the one we've already used before, that takes a radius.  But we can implement something like `circle_from_circumference`, but attach it directly to the `Circle` class as something called a *classmethod* (for simplicity, these examples leave out the `.area` and `.circumference` properties for now):"
     ]
    },
    {
     "cell_type": "code",
     "collapsed": false,
     "input": [
      "TAU = 2 * np.pi\n",
      "\n",
      "class Circle(object):\n",
      "    def __init__(self, radius):\n",
      "        # from_circumference will always create a circle with a float for its radius,\n",
      "        # so to maintain consistency let's make it so that radius is always a float\n",
      "        self.radius = float(radius)\n",
      "        \n",
      "    @classmethod\n",
      "    def from_circumference(cls, circumference):\n",
      "        return cls(radius=circumference / TAU)\n",
      "        \n",
      "    def __repr__(self):\n",
      "        return '<Circle(radius={radius})>'.format(radius=self.radius)"
     ],
     "language": "python",
     "metadata": {},
     "outputs": [],
     "prompt_number": 83
    },
    {
     "cell_type": "markdown",
     "metadata": {},
     "source": [
      "Now we can create the same `Circle` in two equivalent ways:"
     ]
    },
    {
     "cell_type": "code",
     "collapsed": false,
     "input": [
      "Circle(radius=1)"
     ],
     "language": "python",
     "metadata": {},
     "outputs": [
      {
       "metadata": {},
       "output_type": "pyout",
       "prompt_number": 84,
       "text": [
        "<Circle(radius=1.0)>"
       ]
      }
     ],
     "prompt_number": 84
    },
    {
     "cell_type": "code",
     "collapsed": false,
     "input": [
      "Circle.from_circumference(TAU)"
     ],
     "language": "python",
     "metadata": {},
     "outputs": [
      {
       "metadata": {},
       "output_type": "pyout",
       "prompt_number": 85,
       "text": [
        "<Circle(radius=1.0)>"
       ]
      }
     ],
     "prompt_number": 85
    },
    {
     "cell_type": "markdown",
     "metadata": {},
     "source": [
      "The details of how to create a circle from a circumference now live entirely within the `Circle` class.\n",
      "Let's break down this syntax a little bit.  We created a method called `from_circumference`, but there are a few oddities about this.  First we used a *decorator* on it called `@classmethod`.  This is just how we indicate that a method is this thing called a *classmethod* that has some different behavior from normal methods.\n",
      "\n",
      "The second oddity is that its first argument is not `self`, but is called `cls`.  This is just a convention for classmethods, but it's a common one.  \"cls\" is short for \"class\".  (Bonus question: Why don't we just call this argument \"class\"?)\n",
      "\n",
      "The third odditity is that we called `from_circumference` directly on the class itself: `Circle.from_circumference(...)`.  We didn't have to create a circle instance first like `c = Circle(radius=1)` and then create a new circle by calling `c.from_circumference(TAU)`.  After all, that would defeat the purpose--the whole point of this is that we want to be able to create circles from the circumference *first* without bothering with radii.  I have actually seen and audited code that used the previous anti-pattern, written by people who didn't know about `@classmethod` or how to use it.  In other words, _**DON'T DO THIS**_:"
     ]
    },
    {
     "cell_type": "code",
     "collapsed": false,
     "input": [
      "class SillyCircle(object):\n",
      "    def __init__(self, radius):\n",
      "        self.radius = radius\n",
      "        \n",
      "    def from_circumference(self, circumference):\n",
      "        \"\"\"Returns a new circle calculated from the circumference.\"\"\"\n",
      "        \n",
      "        return SillyCircle(circumference / TAU)"
     ],
     "language": "python",
     "metadata": {},
     "outputs": [],
     "prompt_number": 86
    },
    {
     "cell_type": "code",
     "collapsed": false,
     "input": [
      "SillyCircle(0).from_circumference(6.28)"
     ],
     "language": "python",
     "metadata": {},
     "outputs": [
      {
       "metadata": {},
       "output_type": "pyout",
       "prompt_number": 87,
       "text": [
        "<__main__.SillyCircle at 0x59e0a10>"
       ]
      }
     ],
     "prompt_number": 87
    },
    {
     "cell_type": "markdown",
     "metadata": {},
     "source": [
      "In this example `from_circumference` was a normal method, and so it requires us to create a dummy throwaway circle just to call `from_circumference`.  One way we can easily tell we might have the wrong approach on our hand, is to note that in this example, the `from_circumference` does not use `self` anywhere at all.  The original circle instance we're calling it from has nothing to do with the result it returns.  This is *often* a good indication that it would be better if that method were a *classmethod*.  (Classmethods aren't just for alternative constructors either, though it is one of their more common use cases.  Can you think of another?)"
     ]
    },
    {
     "cell_type": "markdown",
     "metadata": {},
     "source": [
      "Now let's go back to our proper `@classmethod` example and explain what's going on in a little more detail:"
     ]
    },
    {
     "cell_type": "code",
     "collapsed": false,
     "input": [
      "TAU = 2 * np.pi\n",
      "\n",
      "class Circle(object):\n",
      "    def __init__(self, radius):\n",
      "        # from_circumference will always create a circle with a float for its radius,\n",
      "        # so to maintain consistency let's make it so that radius is always a float\n",
      "        self.radius = float(radius)\n",
      "        \n",
      "    @classmethod\n",
      "    def from_circumference(cls, circumference):\n",
      "        return cls(radius=circumference / TAU)\n",
      "        \n",
      "    def __repr__(self):\n",
      "        return '<Circle(radius={radius})>'.format(radius=self.radius)"
     ],
     "language": "python",
     "metadata": {},
     "outputs": [],
     "prompt_number": 88
    },
    {
     "cell_type": "markdown",
     "metadata": {},
     "source": [
      "So the big change here, aside from adding `@classmethod` on top of the method declaration, is this `cls` argument.  It's sort of like `self` in that we didn't have to pass in anything for it explicitly when we call `Circle.from_circumference`.  But it can't be the *same* as `self`, because there is no circle instance created yet when this is called.  `cls` gets its name because it is in fact the class *itelf* on which the method is defined.  We can put in a print statement to see this explicitly:"
     ]
    },
    {
     "cell_type": "code",
     "collapsed": false,
     "input": [
      "class Circle(object):\n",
      "    def __init__(self, radius):\n",
      "        self.radius = float(radius)\n",
      "        \n",
      "    @classmethod\n",
      "    def from_circumference(cls, circumference):\n",
      "        print(\"What is cls?\")\n",
      "        print(cls)\n",
      "        return cls(radius=circumference / TAU)\n",
      "            \n",
      "    def __repr__(self):\n",
      "        return '<Circle(radius={radius})>'.format(radius=self.radius)"
     ],
     "language": "python",
     "metadata": {},
     "outputs": [],
     "prompt_number": 89
    },
    {
     "cell_type": "code",
     "collapsed": false,
     "input": [
      "c = Circle.from_circumference(6.28)"
     ],
     "language": "python",
     "metadata": {},
     "outputs": [
      {
       "output_type": "stream",
       "stream": "stdout",
       "text": [
        "What is cls?\n",
        "<class '__main__.Circle'>\n"
       ]
      }
     ],
     "prompt_number": 90
    },
    {
     "cell_type": "markdown",
     "metadata": {},
     "source": [
      "Then we compute the radius from the circumference and *call* `cls(...)` with the radius as its argument.  Remember, a Python class is just like any other object, and can have variables pointing to it.  When we define the class it is assigned to a variable called \"Circle\":"
     ]
    },
    {
     "cell_type": "code",
     "collapsed": false,
     "input": [
      "Circle"
     ],
     "language": "python",
     "metadata": {},
     "outputs": [
      {
       "metadata": {},
       "output_type": "pyout",
       "prompt_number": 91,
       "text": [
        "__main__.Circle"
       ]
      }
     ],
     "prompt_number": 91
    },
    {
     "cell_type": "markdown",
     "metadata": {},
     "source": [
      "But we can also assign the `Circle` class to a new variable, say, shapely:"
     ]
    },
    {
     "cell_type": "code",
     "collapsed": false,
     "input": [
      "shapely = Circle"
     ],
     "language": "python",
     "metadata": {},
     "outputs": [],
     "prompt_number": 92
    },
    {
     "cell_type": "markdown",
     "metadata": {},
     "source": [
      "This is still the exact same `Circle` class object though.  It doesn't rename to class to \"shapely\".  The class itself is still also named `Circle`:"
     ]
    },
    {
     "cell_type": "code",
     "collapsed": false,
     "input": [
      "shapely"
     ],
     "language": "python",
     "metadata": {},
     "outputs": [
      {
       "metadata": {},
       "output_type": "pyout",
       "prompt_number": 93,
       "text": [
        "__main__.Circle"
       ]
      }
     ],
     "prompt_number": 93
    },
    {
     "cell_type": "markdown",
     "metadata": {},
     "source": [
      "And we can all `shapely(radius=1.0)`:"
     ]
    },
    {
     "cell_type": "code",
     "collapsed": false,
     "input": [
      "shapely(radius=1.0)"
     ],
     "language": "python",
     "metadata": {},
     "outputs": [
      {
       "metadata": {},
       "output_type": "pyout",
       "prompt_number": 94,
       "text": [
        "<Circle(radius=1.0)>"
       ]
      }
     ],
     "prompt_number": 94
    },
    {
     "cell_type": "markdown",
     "metadata": {},
     "source": [
      "And this is exactly equivalent to just calling `Circle(1.0)`.  So hopefully that should explain how the classmethod is defined:\n",
      "```python\n",
      "    @classmethod\n",
      "    def from_circumference(cls, circumference):\n",
      "        print(\"What is cls?\")\n",
      "        print(cls)\n",
      "        return cls(radius=circumference / TAU)\n",
      "```"
     ]
    },
    {
     "cell_type": "markdown",
     "metadata": {},
     "source": [
      "Here `cls` is just a variable (like \"shapely\") that points to the `Circle` class.  So we can instantiate and return a new `Circle` instance by calling `cls(...)` with our computed radius."
     ]
    },
    {
     "cell_type": "markdown",
     "metadata": {},
     "source": [
      "Why all this indirection though?  Why not just write it like:\n",
      "\n",
      "```python\n",
      "    @classmethod\n",
      "    def from_circumference(circumference):\n",
      "        return Circle(radius=circumference / TAU)\n",
      "```"
     ]
    },
    {
     "cell_type": "markdown",
     "metadata": {},
     "source": [
      "The answer to this lies primarily in subclasses.  Say we *did* define `Circle.from_circumference` to explicitly use `Circle`:"
     ]
    },
    {
     "cell_type": "code",
     "collapsed": false,
     "input": [
      "class Circle(object):\n",
      "    def __init__(self, radius):\n",
      "        self.radius = float(radius)\n",
      "        \n",
      "    @classmethod\n",
      "    def from_circumference(cls, circumference):\n",
      "        return Circle(radius=circumference / TAU)\n",
      "            \n",
      "    def __repr__(self):\n",
      "        return '<Circle(radius={radius})>'.format(radius=self.radius)"
     ],
     "language": "python",
     "metadata": {},
     "outputs": [],
     "prompt_number": 95
    },
    {
     "cell_type": "markdown",
     "metadata": {},
     "source": [
      "Then say we, or some other user, has defined a subclass of `Circle` called `EnhancedCircle` that knows how to compute areas:"
     ]
    },
    {
     "cell_type": "code",
     "collapsed": false,
     "input": [
      "class EnhancedCircle(Circle):\n",
      "    \"\"\"Enhancement to the base Circle class with new functionality.\"\"\"\n",
      "    \n",
      "    def area(self):\n",
      "        return 0.5 * TAU * self.radius**2"
     ],
     "language": "python",
     "metadata": {},
     "outputs": [],
     "prompt_number": 96
    },
    {
     "cell_type": "markdown",
     "metadata": {},
     "source": [
      "Note that we have *not* redefined `__init__` or `from_circumference`.  All we've done is add an `area` method:"
     ]
    },
    {
     "cell_type": "code",
     "collapsed": false,
     "input": [
      "ec = EnhancedCircle(1)\n",
      "ec.area()"
     ],
     "language": "python",
     "metadata": {},
     "outputs": [
      {
       "metadata": {},
       "output_type": "pyout",
       "prompt_number": 97,
       "text": [
        "3.141592653589793"
       ]
      }
     ],
     "prompt_number": 97
    },
    {
     "cell_type": "markdown",
     "metadata": {},
     "source": [
      "But now what happens if we call `EnhancedCircle.from_circumference`, which was inherited from `Circle`:"
     ]
    },
    {
     "cell_type": "code",
     "collapsed": false,
     "input": [
      "ec2 = EnhancedCircle.from_circumference(6.28)"
     ],
     "language": "python",
     "metadata": {},
     "outputs": [],
     "prompt_number": 98
    },
    {
     "cell_type": "code",
     "collapsed": false,
     "input": [
      "ec2.area()"
     ],
     "language": "python",
     "metadata": {},
     "outputs": [
      {
       "ename": "AttributeError",
       "evalue": "'Circle' object has no attribute 'area'",
       "output_type": "pyerr",
       "traceback": [
        "\u001b[1;31m---------------------------------------------------------------------------\u001b[0m\n\u001b[1;31mAttributeError\u001b[0m                            Traceback (most recent call last)",
        "\u001b[1;32m<ipython-input-99-c37120583783>\u001b[0m in \u001b[0;36m<module>\u001b[1;34m()\u001b[0m\n\u001b[1;32m----> 1\u001b[1;33m \u001b[0mec2\u001b[0m\u001b[1;33m.\u001b[0m\u001b[0marea\u001b[0m\u001b[1;33m(\u001b[0m\u001b[1;33m)\u001b[0m\u001b[1;33m\u001b[0m\u001b[0m\n\u001b[0m",
        "\u001b[1;31mAttributeError\u001b[0m: 'Circle' object has no attribute 'area'"
       ]
      }
     ],
     "prompt_number": 99
    },
    {
     "cell_type": "markdown",
     "metadata": {},
     "source": [
      "Oops!  We thought we were creating EnhancedCircles, and expected to be able to compute areas.  But in fact:"
     ]
    },
    {
     "cell_type": "code",
     "collapsed": false,
     "input": [
      "type(ec2)"
     ],
     "language": "python",
     "metadata": {},
     "outputs": [
      {
       "metadata": {},
       "output_type": "pyout",
       "prompt_number": 100,
       "text": [
        "__main__.Circle"
       ]
      }
     ],
     "prompt_number": 100
    },
    {
     "cell_type": "markdown",
     "metadata": {},
     "source": [
      "Whoever wrote the `Circle` class didn't make proper use of classmethods, and forced us to *always* return instances of the base class when creating a circle from a circumference.  This is actually a pretty common bug  If instead `from_circumference` used the `cls` argument correctly:"
     ]
    },
    {
     "cell_type": "code",
     "collapsed": false,
     "input": [
      "class Circle(object):\n",
      "    def __init__(self, radius):\n",
      "        self.radius = float(radius)\n",
      "        \n",
      "    @classmethod\n",
      "    def from_circumference(cls, circumference):\n",
      "        return cls(radius=circumference / TAU)\n",
      "            \n",
      "    def __repr__(self):\n",
      "        return '<Circle(radius={radius})>'.format(radius=self.radius)\n",
      "    \n",
      "    \n",
      "class EnhancedCircle(Circle):\n",
      "    \"\"\"Enhancement to the base Circle class with new functionality.\"\"\"\n",
      "    \n",
      "    def area(self):\n",
      "        return 0.5 * TAU * self.radius**2"
     ],
     "language": "python",
     "metadata": {},
     "outputs": [],
     "prompt_number": 101
    },
    {
     "cell_type": "code",
     "collapsed": false,
     "input": [
      "ec3 = EnhancedCircle.from_circumference(6.28)\n",
      "ec3.area()"
     ],
     "language": "python",
     "metadata": {},
     "outputs": [
      {
       "metadata": {},
       "output_type": "pyout",
       "prompt_number": 102,
       "text": [
        "3.138408153817703"
       ]
      }
     ],
     "prompt_number": 102
    },
    {
     "cell_type": "markdown",
     "metadata": {},
     "source": [
      "This *works* because when we call `EnhancedCircle.from_circumference`, the `EnhancedCircle` class is implicitly passed in as the `cls` argument (*not* the base class `Circle`).  So the correct class still gets instantiated.\n",
      "\n",
      "There might in fact be use cases wherein one would want to use the base class explicitly, but in most cases this is the correct pattern.  Incidentally, there's another bug in our definition of the `Circle` base class that makes life hard for subclassers.  Check out how the `EnhancedCircle` is represented as a string:"
     ]
    },
    {
     "cell_type": "code",
     "collapsed": false,
     "input": [
      "ec3"
     ],
     "language": "python",
     "metadata": {},
     "outputs": [
      {
       "metadata": {},
       "output_type": "pyout",
       "prompt_number": 103,
       "text": [
        "<Circle(radius=0.999493042617)>"
       ]
      }
     ],
     "prompt_number": 103
    },
    {
     "cell_type": "markdown",
     "metadata": {},
     "source": [
      "It says it's a `Circle` rather than an `EnhancedCircle`.  In some cases this might be okay--we might want the new functionality on the subclass to be rather transparent.  But it's usually nice, if the class name is used in the class's `__repr__`, not not write the name explicitly.  Instead, define it like:"
     ]
    },
    {
     "cell_type": "code",
     "collapsed": false,
     "input": [
      "class Circle(object):\n",
      "    def __init__(self, radius):\n",
      "        self.radius = float(radius)\n",
      "            \n",
      "    def __repr__(self):\n",
      "        return '<{0}(radius={radius})>'.format(self.__class__.__name__, radius=self.radius)"
     ],
     "language": "python",
     "metadata": {},
     "outputs": [],
     "prompt_number": 104
    },
    {
     "cell_type": "markdown",
     "metadata": {},
     "source": [
      "This uses the `self.__class__.__name__` attribute in the format string, so that the correct class name\n",
      "is always used for a given object.  Now when we subclass:"
     ]
    },
    {
     "cell_type": "code",
     "collapsed": false,
     "input": [
      "class EnhancedCircle(Circle):\n",
      "    \"\"\"Enhancement to the base Circle class with new functionality.\"\"\"\n",
      "    \n",
      "    def area(self):\n",
      "        return 0.5 * TAU * self.radius**2"
     ],
     "language": "python",
     "metadata": {},
     "outputs": [],
     "prompt_number": 105
    },
    {
     "cell_type": "markdown",
     "metadata": {},
     "source": [
      "We don't have to rewrite the `__repr__`, but the base class will still represent us accurately:"
     ]
    },
    {
     "cell_type": "code",
     "collapsed": false,
     "input": [
      "EnhancedCircle(1)"
     ],
     "language": "python",
     "metadata": {},
     "outputs": [
      {
       "metadata": {},
       "output_type": "pyout",
       "prompt_number": 106,
       "text": [
        "<EnhancedCircle(radius=1.0)>"
       ]
      }
     ],
     "prompt_number": 106
    },
    {
     "cell_type": "heading",
     "level": 2,
     "metadata": {},
     "source": [
      "Some notes on `type`"
     ]
    },
    {
     "cell_type": "markdown",
     "metadata": {},
     "source": [
      "This is an advanced section that looks a little deeper under the hood.  You don't need to know any of this to define or use most classes.\n",
      "\n",
      "We've already discussed a little bit about a thing called `type()` which, at first glance, looks to be a function that tells you what \"class\" an object has:"
     ]
    },
    {
     "cell_type": "code",
     "collapsed": false,
     "input": [
      "type(2)"
     ],
     "language": "python",
     "metadata": {},
     "outputs": [
      {
       "metadata": {},
       "output_type": "pyout",
       "prompt_number": 107,
       "text": [
        "int"
       ]
      }
     ],
     "prompt_number": 107
    },
    {
     "cell_type": "code",
     "collapsed": false,
     "input": [
      "type(my_circle)"
     ],
     "language": "python",
     "metadata": {},
     "outputs": [
      {
       "metadata": {},
       "output_type": "pyout",
       "prompt_number": 108,
       "text": [
        "__main__.Circle"
       ]
      }
     ],
     "prompt_number": 108
    },
    {
     "cell_type": "code",
     "collapsed": false,
     "input": [
      "def hello():\n",
      "    print(\"Hello world!\")\n",
      "    \n",
      "type(hello)"
     ],
     "language": "python",
     "metadata": {},
     "outputs": [
      {
       "metadata": {},
       "output_type": "pyout",
       "prompt_number": 109,
       "text": [
        "function"
       ]
      }
     ],
     "prompt_number": 109
    },
    {
     "cell_type": "markdown",
     "metadata": {},
     "source": [
      "But we also saw when we discussed this a few weeks ago that there's apparently more to `type` than meets the eye.  You would think that if you called\n",
      "`type(Circle)` (or type of any other class object) that we might get something called 'class' in return, just like the `type()` of a function is function.  But in fact:"
     ]
    },
    {
     "cell_type": "code",
     "collapsed": false,
     "input": [
      "type(Circle)"
     ],
     "language": "python",
     "metadata": {},
     "outputs": [
      {
       "metadata": {},
       "output_type": "pyout",
       "prompt_number": 110,
       "text": [
        "type"
       ]
      }
     ],
     "prompt_number": 110
    },
    {
     "cell_type": "markdown",
     "metadata": {},
     "source": [
      "The \"type\" of a class object *is* `type` itself!  That suggests that `type()` is more than just a function that tells you the type of an object.  In fact, `type` is not a function at all:"
     ]
    },
    {
     "cell_type": "code",
     "collapsed": false,
     "input": [
      "type(type)"
     ],
     "language": "python",
     "metadata": {},
     "outputs": [
      {
       "metadata": {},
       "output_type": "pyout",
       "prompt_number": 111,
       "text": [
        "type"
       ]
      }
     ],
     "prompt_number": 111
    },
    {
     "cell_type": "markdown",
     "metadata": {},
     "source": [
      "We've already seen that all objects have a `.__class__` attribute pointing back to the original class of which they are an instance:"
     ]
    },
    {
     "cell_type": "code",
     "collapsed": false,
     "input": [
      "my_circle.__class__"
     ],
     "language": "python",
     "metadata": {},
     "outputs": [
      {
       "metadata": {},
       "output_type": "pyout",
       "prompt_number": 112,
       "text": [
        "__main__.Circle"
       ]
      }
     ],
     "prompt_number": 112
    },
    {
     "cell_type": "markdown",
     "metadata": {},
     "source": [
      "But we've also dicussed that classes themselves are first-class objects in Python with all the same basic attributes and capabilities of any other object like a circle instance.  To be specific, classes also have a `.__class__`:"
     ]
    },
    {
     "cell_type": "code",
     "collapsed": false,
     "input": [
      "Circle.__class__"
     ],
     "language": "python",
     "metadata": {},
     "outputs": [
      {
       "metadata": {},
       "output_type": "pyout",
       "prompt_number": 113,
       "text": [
        "type"
       ]
      }
     ],
     "prompt_number": 113
    },
    {
     "cell_type": "code",
     "collapsed": false,
     "input": [
      "str.__class__"
     ],
     "language": "python",
     "metadata": {},
     "outputs": [
      {
       "metadata": {},
       "output_type": "pyout",
       "prompt_number": 114,
       "text": [
        "type"
       ]
      }
     ],
     "prompt_number": 114
    },
    {
     "cell_type": "markdown",
     "metadata": {},
     "source": [
      "In fact, `type` is not a function, but it is in some sense a class itself--it is the base class of *all* classes in Python (remember--not *objects* in general; `type` is *not* a base class of an instance like `my_circle`, but it is the base class of the class `Circle` itself).\n",
      "\n",
      "Of course, this has to end somewhere--there can't be an infinite regress of classes of classes of classes.  So that's why it is simply a matter of *definition* that:"
     ]
    },
    {
     "cell_type": "code",
     "collapsed": false,
     "input": [
      "type(type) is type"
     ],
     "language": "python",
     "metadata": {},
     "outputs": [
      {
       "metadata": {},
       "output_type": "pyout",
       "prompt_number": 115,
       "text": [
        "True"
       ]
      }
     ],
     "prompt_number": 115
    },
    {
     "cell_type": "markdown",
     "metadata": {},
     "source": [
      "(as an aside, it is possible to concoct a pathological class that has an infinite regress of base clasess, but that will lead Python quickly to a maximum recursion depth error)."
     ]
    },
    {
     "cell_type": "markdown",
     "metadata": {},
     "source": [
      "So since `type` is itself sort of a class, calling `type()` is actually calling the `type` class's constructor, in a sense.  Just like how when we call `Circle(3)` this is actually calling the `Circle.__init__` constructor.  The main difference is that it has a *special case* that when you only pass in one argument (like `type(Circle)`) it just returns the class of that argument.\n",
      "\n",
      "So that raises the question: What does the *full* constructor for `type` do, and what arguments does it take?\n",
      "\n",
      "The answer, of course, is that since `type` is the class of classes, calling the `type()` returns a new *instance* of `type`.  That instance is itself a class object--or just a \"class\".  What Python is doing under the hood when you create a new class definition starting with something like, `class Circle(object):...`, it actually takes information gleaned from that class definition and passes it all to `type()` to create the actual class.\n",
      "\n",
      "The full signature of the `type` constructor is:\n",
      "\n",
      "    type(name, bases, members)\n",
      "\n",
      "`name` is just a string containing the name of the class, such as `'Circle'`.  This is the same string that's returned when you do `Circle.__name__`, for example.  `bases` must be a tuple object containing all the *base classes* of the class.  In most cases this is just `(object,)`--the default base class for all classes.  Though if we're making a subclass, such as our `ColoredCircle` example, `bases` would be `(Circle,)`.  Basically, it's anything between the `()` in the top line of the class definition.\n",
      "\n",
      "Finally, `members` must be a `dict` object.  It's created by reading everything inside the class definition.  For example, for each function defined in the class like `def area(self):` and `def circumference(self):` Python creates the function object for `area()`, reads the *name* of that function (`'area'`), and creates an entry in this dictionary like `members['area'] = the_actual_area_function`.\n",
      "\n",
      "That was a lot to process, so let's look at the `Circle` definition again and break down exactly what happens when Python reads it.  To start with, the original definition of `Circle`, one more time:"
     ]
    },
    {
     "cell_type": "code",
     "collapsed": false,
     "input": [
      "class Circle(object):\n",
      "    \"\"\"Represents a circle with a given radius.\"\"\"\n",
      "    \n",
      "    def __init__(self, radius):\n",
      "        self.radius = radius\n",
      "        \n",
      "    def circumference(self):\n",
      "        return 2 * np.pi * self.radius\n",
      "        \n",
      "    def area(self):\n",
      "        return np.pi * self.radius ** 2"
     ],
     "language": "python",
     "metadata": {},
     "outputs": [],
     "prompt_number": 116
    },
    {
     "cell_type": "markdown",
     "metadata": {},
     "source": [
      "Now let's break down line by line what Python does internally when it encounters this (in reality this is done in C but this is Python pseudocode for what it actually does):"
     ]
    },
    {
     "cell_type": "code",
     "collapsed": false,
     "input": [
      "# class Circle(object):\n",
      "# \n",
      "# Ah, a class definition.  Its name is Circle and it has object as a base class.\n",
      "# Save the name and bases into some temporary variables, and set up a dictionary to\n",
      "# contain the class members:\n",
      "\n",
      "name = 'Circle'\n",
      "bases = (object,)\n",
      "members = {}"
     ],
     "language": "python",
     "metadata": {},
     "outputs": [],
     "prompt_number": 117
    },
    {
     "cell_type": "code",
     "collapsed": false,
     "input": [
      "#     \"\"\"Represents a circle with a given radius.\"\"\"\n",
      "# \n",
      "# Special case--if I find a string immediately after the beginning of the `class` definition\n",
      "# this is the docstring for the class:\n",
      "\n",
      "members['__doc__'] = \"Represents a circle with a given radius.\""
     ],
     "language": "python",
     "metadata": {},
     "outputs": [],
     "prompt_number": 118
    },
    {
     "cell_type": "code",
     "collapsed": false,
     "input": [
      "#     def __init__(self, radius):\n",
      "#         self.radius = radius\n",
      "#\n",
      "# A function definition--run the `def` statement in the local context and add it to members dict:\n",
      "\n",
      "def __init__(self, radius):\n",
      "    self.radius = radius\n",
      "    \n",
      "members[__init__.__name__] = __init__"
     ],
     "language": "python",
     "metadata": {},
     "outputs": [],
     "prompt_number": 119
    },
    {
     "cell_type": "code",
     "collapsed": false,
     "input": [
      "#     def circumference(self):\n",
      "#         return 2 * np.pi * self.radius\n",
      "#        \n",
      "#     def area(self):\n",
      "#         return np.pi * self.radius ** 2\n",
      "#\n",
      "# Two more function definitions--do the same thing:\n",
      "\n",
      "def circumference(self):\n",
      "    return 2 * np.pi * self.radius\n",
      "\n",
      "members[circumference.__name__] = circumference    \n",
      "\n",
      "def area(self):\n",
      "    return np.pi * self.radius ** 2\n",
      "\n",
      "members[area.__name__] = area"
     ],
     "language": "python",
     "metadata": {},
     "outputs": [],
     "prompt_number": 120
    },
    {
     "cell_type": "code",
     "collapsed": false,
     "input": [
      "# Just so that we're clear what's going on, let's take one last look at what we have\n",
      "# from the class definition:\n",
      "\n",
      "print(\"   Class name:\", name)\n",
      "print(\" Base classes:\", bases)"
     ],
     "language": "python",
     "metadata": {},
     "outputs": [
      {
       "output_type": "stream",
       "stream": "stdout",
       "text": [
        "   Class name: Circle\n",
        " Base classes: (<type 'object'>,)\n"
       ]
      }
     ],
     "prompt_number": 121
    },
    {
     "cell_type": "code",
     "collapsed": false,
     "input": [
      "print(\"Class members:\")\n",
      "members"
     ],
     "language": "python",
     "metadata": {},
     "outputs": [
      {
       "output_type": "stream",
       "stream": "stdout",
       "text": [
        "Class members:\n"
       ]
      },
      {
       "metadata": {},
       "output_type": "pyout",
       "prompt_number": 122,
       "text": [
        "{'__doc__': 'Represents a circle with a given radius.',\n",
        " '__init__': <function __main__.__init__>,\n",
        " 'area': <function __main__.area>,\n",
        " 'circumference': <function __main__.circumference>}"
       ]
      }
     ],
     "prompt_number": 122
    },
    {
     "cell_type": "code",
     "collapsed": false,
     "input": [
      "# Now that we've reached the end of the class definition and gotten everything we need out of it,\n",
      "# we pass everything to type() and assign the resulting class object to a local variable with the\n",
      "# *same name* as the class:\n",
      "\n",
      "locals()[name] = type(name, bases, members)"
     ],
     "language": "python",
     "metadata": {},
     "outputs": [],
     "prompt_number": 123
    },
    {
     "cell_type": "code",
     "collapsed": false,
     "input": [
      "# And now we have a Circle class\n",
      "Circle"
     ],
     "language": "python",
     "metadata": {},
     "outputs": [
      {
       "metadata": {},
       "output_type": "pyout",
       "prompt_number": 124,
       "text": [
        "__main__.Circle"
       ]
      }
     ],
     "prompt_number": 124
    },
    {
     "cell_type": "code",
     "collapsed": false,
     "input": [
      "# And we can make circle instances as usual\n",
      "my_circle = Circle(5)\n",
      "my_circle.area()"
     ],
     "language": "python",
     "metadata": {},
     "outputs": [
      {
       "metadata": {},
       "output_type": "pyout",
       "prompt_number": 125,
       "text": [
        "78.53981633974483"
       ]
      }
     ],
     "prompt_number": 125
    },
    {
     "cell_type": "code",
     "collapsed": false,
     "input": [
      "# If you don't believe me, try calling type() without assigning the result to a variable\n",
      "# and see what it returns.\n",
      "# You can do this as many times as you want and it will keep creating new Circle classes,\n",
      "# it just doesn't assign them to any local variables\n",
      "type(name, bases, members)"
     ],
     "language": "python",
     "metadata": {},
     "outputs": [
      {
       "metadata": {},
       "output_type": "pyout",
       "prompt_number": 126,
       "text": [
        "__main__.Circle"
       ]
      }
     ],
     "prompt_number": 126
    },
    {
     "cell_type": "code",
     "collapsed": false,
     "input": [
      "a_circle = type(name, bases, members)(radius=3)"
     ],
     "language": "python",
     "metadata": {},
     "outputs": [],
     "prompt_number": 127
    },
    {
     "cell_type": "code",
     "collapsed": false,
     "input": [
      "print(a_circle.__class__)\n",
      "print(my_circle.__class__)"
     ],
     "language": "python",
     "metadata": {},
     "outputs": [
      {
       "output_type": "stream",
       "stream": "stdout",
       "text": [
        "<class '__main__.Circle'>\n",
        "<class '__main__.Circle'>\n"
       ]
      }
     ],
     "prompt_number": 128
    },
    {
     "cell_type": "code",
     "collapsed": false,
     "input": [
      "# Remember, a_circle was defined with a 'Circle' class we *just* created\n",
      "# two cells ago with the type() call.  It is *not* the same 'Circle' class\n",
      "# we were using when we defined my_circle:\n",
      "\n",
      "a_circle.__class__ == my_circle.__class__"
     ],
     "language": "python",
     "metadata": {},
     "outputs": [
      {
       "metadata": {},
       "output_type": "pyout",
       "prompt_number": 129,
       "text": [
        "False"
       ]
      }
     ],
     "prompt_number": 129
    },
    {
     "cell_type": "markdown",
     "metadata": {},
     "source": [
      "Everything shown above is more or less exactly what's happening under the hood when we make a class\n",
      "definition in Python.  The end result is pretty much indistinguishable.  But obviously using the\n",
      "`class Circle(object):...` statment is a lot easier to read and write ;)\n",
      "\n",
      "Having some basic working understanding of all this will allow us to move on to talking about metaprogramming, and in particular *metaclasses* ;)\n",
      "If you're wondering what to call `type`--the class of classes--you can refer to it as a \"metaclass\".  I've already alluded to the fact that we can\n",
      "create our own metaclasses--such as the example of a class that has an infinite regress of base classes.  But we can also use this capability to\n",
      "do *useful* things.  That will be a topic for another time, however."
     ]
    }
   ],
   "metadata": {}
  }
 ]
}